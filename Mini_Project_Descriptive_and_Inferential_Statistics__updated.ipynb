{
  "nbformat": 4,
  "nbformat_minor": 0,
  "metadata": {
    "colab": {
      "provenance": []
    },
    "kernelspec": {
      "name": "python3",
      "display_name": "Python 3"
    },
    "language_info": {
      "name": "python"
    }
  },
  "cells": [
    {
      "cell_type": "markdown",
      "source": [
        "# **Q1. Key Statistical Definitions**"
      ],
      "metadata": {
        "id": "34PACmskPPgr"
      }
    },
    {
      "cell_type": "markdown",
      "source": [
        "Problem:\n",
        "\n",
        "Write short definitions (2-3 lines each) for the following:\n",
        "\n",
        "● a) Population and Sample\n",
        "\n",
        "● b) Descriptive Statistics and Inferential Statistics\n",
        "\n",
        "● c) Parameter and Statistic\n",
        "\n",
        "● d) Qualitative and Quantitative Data"
      ],
      "metadata": {
        "id": "LBy5CMsDP1xE"
      }
    },
    {
      "cell_type": "markdown",
      "source": [
        "## **a) Population and Sample**\n",
        "\n",
        "**Population:** The complete set of all individuals or items that you're studying.\n",
        "\n",
        "**Sample:** A subset of the population selected for analysis to make inferences about the whole.\n",
        "\n",
        "## **b) Descriptive Statistics and Inferential Statistics**\n",
        "\n",
        "**Descriptive Statistics:** Methods for summarizing and organizing data using measures such as mean, median, and standard deviation.\n",
        "\n",
        "**Inferential Statistics:** Techniques for drawing conclusions or making predictions about a population based on sample data.\n",
        "\n",
        "## **c) Parameter and Statistic**\n",
        "\n",
        "**Parameter:** A numerical value that describes a characteristic of a population (e.g., population mean).\n",
        "\n",
        "**Statistic:** A numerical value that describes a characteristic of a sample (e.g., sample mean).\n",
        "\n",
        "## **d) Qualitative and Quantitative Data**\n",
        "\n",
        "**Qualitative Data:** Non-numeric information that describes categories or labels (e.g., colors, names).\n",
        "\n",
        "**Quantitative Data:** Numeric data that represents measurable quantities (e.g., height, weight)."
      ],
      "metadata": {
        "id": "kLFmY7rCQb1S"
      }
    },
    {
      "cell_type": "markdown",
      "source": [
        "# **Q2. Measures of Central Tendency - Definitions**"
      ],
      "metadata": {
        "id": "OQUv5562XbCx"
      }
    },
    {
      "cell_type": "markdown",
      "source": [
        "Problem:\n",
        "\n",
        "Define the following terms with one example each:\n",
        "\n",
        "● a) Mean\n",
        "\n",
        "● b) Median\n",
        "\n",
        "● c) Mode"
      ],
      "metadata": {
        "id": "ai8BWEjeXgrP"
      }
    },
    {
      "cell_type": "markdown",
      "source": [
        "**a) Mean**\n",
        "\n",
        "Definition: The mean is the average of a set of numbers, calculated by summing all values and dividing by the number of values.\n",
        "\n",
        "Example: For the numbers 4, 6, and 8: Mean = (4 + 6 + 8) / 3 = 18 / 3 = 6\n",
        "\n",
        "**b) Median**\n",
        "\n",
        "Definition: The median is the middle value in an ordered dataset. If there is an even number of values, it's the average of the two middle numbers.\n",
        "\n",
        "Example: For the numbers 3, 7, 9: Median = 7 (the middle value)\n",
        "\n",
        "**c) Mode**\n",
        "\n",
        "Definition: The mode is the value that appears most frequently in a dataset.\n",
        "\n",
        "Example: For the numbers 2, 4, 4, 6, 8: Mode = 4 (it appears twice)"
      ],
      "metadata": {
        "id": "6Ino7sdwXtTt"
      }
    },
    {
      "cell_type": "markdown",
      "source": [
        "# **Q3. Manual Calculation of Mean, Median, and Mode**\n",
        "\n",
        "Objective: Apply manual formulas to real data.\n",
        "\n",
        "Problem:\n",
        "\n",
        "Given the dataset:\n",
        "\n",
        "12, 18, 14, 16, 18, 20, 18, 15, 12, 18, 14, 16, 18, 20, 18, 15\n",
        "\n",
        "Calculate:\n",
        "\n",
        "● a) Mean\n",
        "\n",
        "● b) Median\n",
        "\n",
        "● c) Mode"
      ],
      "metadata": {
        "id": "t-ds8K8lYnBs"
      }
    },
    {
      "cell_type": "code",
      "source": [
        "# Mean"
      ],
      "metadata": {
        "id": "CPOr66MKZ0bO"
      },
      "execution_count": null,
      "outputs": []
    },
    {
      "cell_type": "code",
      "source": [
        "sum_n = 12 + 18 + 14 + 16 + 18 + 20 + 18 + 15 + 12 + 18 + 14 + 16 + 18 + 20 + 18 + 15"
      ],
      "metadata": {
        "id": "My_F1VyYYybp"
      },
      "execution_count": null,
      "outputs": []
    },
    {
      "cell_type": "code",
      "source": [
        "sum_n"
      ],
      "metadata": {
        "colab": {
          "base_uri": "https://localhost:8080/"
        },
        "id": "dYgNPTpYZZO5",
        "outputId": "4e88df5f-cc20-4235-90a0-9f1c67be4719"
      },
      "execution_count": null,
      "outputs": [
        {
          "output_type": "execute_result",
          "data": {
            "text/plain": [
              "262"
            ]
          },
          "metadata": {},
          "execution_count": 4
        }
      ]
    },
    {
      "cell_type": "code",
      "source": [
        "count_n = len([12, 18, 14, 16, 18, 20, 18, 15, 12, 18, 14, 16, 18, 20, 18, 15])"
      ],
      "metadata": {
        "id": "DYL_vXKOZKar"
      },
      "execution_count": null,
      "outputs": []
    },
    {
      "cell_type": "code",
      "source": [
        "count_n"
      ],
      "metadata": {
        "colab": {
          "base_uri": "https://localhost:8080/"
        },
        "id": "0uFs8QEpZVlJ",
        "outputId": "706e629b-0868-4c0b-e833-6c661c639d14"
      },
      "execution_count": null,
      "outputs": [
        {
          "output_type": "execute_result",
          "data": {
            "text/plain": [
              "16"
            ]
          },
          "metadata": {},
          "execution_count": 6
        }
      ]
    },
    {
      "cell_type": "code",
      "source": [
        "mean_n = sum_n/count_n"
      ],
      "metadata": {
        "id": "uZeOp41HZbtS"
      },
      "execution_count": null,
      "outputs": []
    },
    {
      "cell_type": "code",
      "source": [
        "mean_n"
      ],
      "metadata": {
        "colab": {
          "base_uri": "https://localhost:8080/"
        },
        "id": "7Qs_rcMdZeeT",
        "outputId": "f6262a90-b2d0-4ce3-f984-f8c40188ed8a"
      },
      "execution_count": null,
      "outputs": [
        {
          "output_type": "execute_result",
          "data": {
            "text/plain": [
              "16.375"
            ]
          },
          "metadata": {},
          "execution_count": 9
        }
      ]
    },
    {
      "cell_type": "code",
      "source": [
        "# Median"
      ],
      "metadata": {
        "id": "89RcaHjWZpXp"
      },
      "execution_count": null,
      "outputs": []
    },
    {
      "cell_type": "code",
      "source": [
        "import statistics"
      ],
      "metadata": {
        "id": "0F8HuTLMaROT"
      },
      "execution_count": null,
      "outputs": []
    },
    {
      "cell_type": "code",
      "source": [
        "median_n = statistics.median([12, 18, 14, 16, 18, 20, 18, 15, 12, 18, 14, 16, 18, 20, 18, 15])"
      ],
      "metadata": {
        "id": "HuQIL2MbaUO1"
      },
      "execution_count": null,
      "outputs": []
    },
    {
      "cell_type": "code",
      "source": [
        "median_n"
      ],
      "metadata": {
        "colab": {
          "base_uri": "https://localhost:8080/"
        },
        "id": "Ua3U4YeXaY7n",
        "outputId": "3749ffdc-65ef-483b-f987-e1f7f34ab942"
      },
      "execution_count": null,
      "outputs": [
        {
          "output_type": "execute_result",
          "data": {
            "text/plain": [
              "17.0"
            ]
          },
          "metadata": {},
          "execution_count": 14
        }
      ]
    },
    {
      "cell_type": "code",
      "source": [
        "# Mode"
      ],
      "metadata": {
        "id": "6p4fhvyba1e0"
      },
      "execution_count": null,
      "outputs": []
    },
    {
      "cell_type": "code",
      "source": [
        "mode_n = statistics.mode([12, 18, 14, 16, 18, 20, 18, 15, 12, 18, 14, 16, 18, 20, 18, 15])"
      ],
      "metadata": {
        "id": "TFLUK8rfakDb"
      },
      "execution_count": null,
      "outputs": []
    },
    {
      "cell_type": "code",
      "source": [
        "mode_n"
      ],
      "metadata": {
        "colab": {
          "base_uri": "https://localhost:8080/"
        },
        "id": "DDMP1Arsav9R",
        "outputId": "4d527357-41e5-4b1b-99a7-32d721005a7e"
      },
      "execution_count": null,
      "outputs": [
        {
          "output_type": "execute_result",
          "data": {
            "text/plain": [
              "18"
            ]
          },
          "metadata": {},
          "execution_count": 16
        }
      ]
    },
    {
      "cell_type": "code",
      "source": [
        "import pandas as pd"
      ],
      "metadata": {
        "id": "S-yRSnuKbBwm"
      },
      "execution_count": null,
      "outputs": []
    },
    {
      "cell_type": "code",
      "source": [
        "pd.DataFrame([12, 18, 14, 16, 18, 20, 18, 15, 12, 18, 14, 16, 18, 20, 18, 15]).describe()"
      ],
      "metadata": {
        "colab": {
          "base_uri": "https://localhost:8080/",
          "height": 300
        },
        "id": "nZiJm-zibC5m",
        "outputId": "7895bb28-111a-4f4c-fec0-7676838b1d6d"
      },
      "execution_count": null,
      "outputs": [
        {
          "output_type": "execute_result",
          "data": {
            "text/plain": [
              "               0\n",
              "count  16.000000\n",
              "mean   16.375000\n",
              "std     2.526526\n",
              "min    12.000000\n",
              "25%    14.750000\n",
              "50%    17.000000\n",
              "75%    18.000000\n",
              "max    20.000000"
            ],
            "text/html": [
              "\n",
              "  <div id=\"df-a1b3342e-5762-4b1f-8c56-f45f794bb0bd\" class=\"colab-df-container\">\n",
              "    <div>\n",
              "<style scoped>\n",
              "    .dataframe tbody tr th:only-of-type {\n",
              "        vertical-align: middle;\n",
              "    }\n",
              "\n",
              "    .dataframe tbody tr th {\n",
              "        vertical-align: top;\n",
              "    }\n",
              "\n",
              "    .dataframe thead th {\n",
              "        text-align: right;\n",
              "    }\n",
              "</style>\n",
              "<table border=\"1\" class=\"dataframe\">\n",
              "  <thead>\n",
              "    <tr style=\"text-align: right;\">\n",
              "      <th></th>\n",
              "      <th>0</th>\n",
              "    </tr>\n",
              "  </thead>\n",
              "  <tbody>\n",
              "    <tr>\n",
              "      <th>count</th>\n",
              "      <td>16.000000</td>\n",
              "    </tr>\n",
              "    <tr>\n",
              "      <th>mean</th>\n",
              "      <td>16.375000</td>\n",
              "    </tr>\n",
              "    <tr>\n",
              "      <th>std</th>\n",
              "      <td>2.526526</td>\n",
              "    </tr>\n",
              "    <tr>\n",
              "      <th>min</th>\n",
              "      <td>12.000000</td>\n",
              "    </tr>\n",
              "    <tr>\n",
              "      <th>25%</th>\n",
              "      <td>14.750000</td>\n",
              "    </tr>\n",
              "    <tr>\n",
              "      <th>50%</th>\n",
              "      <td>17.000000</td>\n",
              "    </tr>\n",
              "    <tr>\n",
              "      <th>75%</th>\n",
              "      <td>18.000000</td>\n",
              "    </tr>\n",
              "    <tr>\n",
              "      <th>max</th>\n",
              "      <td>20.000000</td>\n",
              "    </tr>\n",
              "  </tbody>\n",
              "</table>\n",
              "</div>\n",
              "    <div class=\"colab-df-buttons\">\n",
              "\n",
              "  <div class=\"colab-df-container\">\n",
              "    <button class=\"colab-df-convert\" onclick=\"convertToInteractive('df-a1b3342e-5762-4b1f-8c56-f45f794bb0bd')\"\n",
              "            title=\"Convert this dataframe to an interactive table.\"\n",
              "            style=\"display:none;\">\n",
              "\n",
              "  <svg xmlns=\"http://www.w3.org/2000/svg\" height=\"24px\" viewBox=\"0 -960 960 960\">\n",
              "    <path d=\"M120-120v-720h720v720H120Zm60-500h600v-160H180v160Zm220 220h160v-160H400v160Zm0 220h160v-160H400v160ZM180-400h160v-160H180v160Zm440 0h160v-160H620v160ZM180-180h160v-160H180v160Zm440 0h160v-160H620v160Z\"/>\n",
              "  </svg>\n",
              "    </button>\n",
              "\n",
              "  <style>\n",
              "    .colab-df-container {\n",
              "      display:flex;\n",
              "      gap: 12px;\n",
              "    }\n",
              "\n",
              "    .colab-df-convert {\n",
              "      background-color: #E8F0FE;\n",
              "      border: none;\n",
              "      border-radius: 50%;\n",
              "      cursor: pointer;\n",
              "      display: none;\n",
              "      fill: #1967D2;\n",
              "      height: 32px;\n",
              "      padding: 0 0 0 0;\n",
              "      width: 32px;\n",
              "    }\n",
              "\n",
              "    .colab-df-convert:hover {\n",
              "      background-color: #E2EBFA;\n",
              "      box-shadow: 0px 1px 2px rgba(60, 64, 67, 0.3), 0px 1px 3px 1px rgba(60, 64, 67, 0.15);\n",
              "      fill: #174EA6;\n",
              "    }\n",
              "\n",
              "    .colab-df-buttons div {\n",
              "      margin-bottom: 4px;\n",
              "    }\n",
              "\n",
              "    [theme=dark] .colab-df-convert {\n",
              "      background-color: #3B4455;\n",
              "      fill: #D2E3FC;\n",
              "    }\n",
              "\n",
              "    [theme=dark] .colab-df-convert:hover {\n",
              "      background-color: #434B5C;\n",
              "      box-shadow: 0px 1px 3px 1px rgba(0, 0, 0, 0.15);\n",
              "      filter: drop-shadow(0px 1px 2px rgba(0, 0, 0, 0.3));\n",
              "      fill: #FFFFFF;\n",
              "    }\n",
              "  </style>\n",
              "\n",
              "    <script>\n",
              "      const buttonEl =\n",
              "        document.querySelector('#df-a1b3342e-5762-4b1f-8c56-f45f794bb0bd button.colab-df-convert');\n",
              "      buttonEl.style.display =\n",
              "        google.colab.kernel.accessAllowed ? 'block' : 'none';\n",
              "\n",
              "      async function convertToInteractive(key) {\n",
              "        const element = document.querySelector('#df-a1b3342e-5762-4b1f-8c56-f45f794bb0bd');\n",
              "        const dataTable =\n",
              "          await google.colab.kernel.invokeFunction('convertToInteractive',\n",
              "                                                    [key], {});\n",
              "        if (!dataTable) return;\n",
              "\n",
              "        const docLinkHtml = 'Like what you see? Visit the ' +\n",
              "          '<a target=\"_blank\" href=https://colab.research.google.com/notebooks/data_table.ipynb>data table notebook</a>'\n",
              "          + ' to learn more about interactive tables.';\n",
              "        element.innerHTML = '';\n",
              "        dataTable['output_type'] = 'display_data';\n",
              "        await google.colab.output.renderOutput(dataTable, element);\n",
              "        const docLink = document.createElement('div');\n",
              "        docLink.innerHTML = docLinkHtml;\n",
              "        element.appendChild(docLink);\n",
              "      }\n",
              "    </script>\n",
              "  </div>\n",
              "\n",
              "\n",
              "    <div id=\"df-9d49dff0-c7ff-4813-b81e-65dd6d33d9eb\">\n",
              "      <button class=\"colab-df-quickchart\" onclick=\"quickchart('df-9d49dff0-c7ff-4813-b81e-65dd6d33d9eb')\"\n",
              "                title=\"Suggest charts\"\n",
              "                style=\"display:none;\">\n",
              "\n",
              "<svg xmlns=\"http://www.w3.org/2000/svg\" height=\"24px\"viewBox=\"0 0 24 24\"\n",
              "     width=\"24px\">\n",
              "    <g>\n",
              "        <path d=\"M19 3H5c-1.1 0-2 .9-2 2v14c0 1.1.9 2 2 2h14c1.1 0 2-.9 2-2V5c0-1.1-.9-2-2-2zM9 17H7v-7h2v7zm4 0h-2V7h2v10zm4 0h-2v-4h2v4z\"/>\n",
              "    </g>\n",
              "</svg>\n",
              "      </button>\n",
              "\n",
              "<style>\n",
              "  .colab-df-quickchart {\n",
              "      --bg-color: #E8F0FE;\n",
              "      --fill-color: #1967D2;\n",
              "      --hover-bg-color: #E2EBFA;\n",
              "      --hover-fill-color: #174EA6;\n",
              "      --disabled-fill-color: #AAA;\n",
              "      --disabled-bg-color: #DDD;\n",
              "  }\n",
              "\n",
              "  [theme=dark] .colab-df-quickchart {\n",
              "      --bg-color: #3B4455;\n",
              "      --fill-color: #D2E3FC;\n",
              "      --hover-bg-color: #434B5C;\n",
              "      --hover-fill-color: #FFFFFF;\n",
              "      --disabled-bg-color: #3B4455;\n",
              "      --disabled-fill-color: #666;\n",
              "  }\n",
              "\n",
              "  .colab-df-quickchart {\n",
              "    background-color: var(--bg-color);\n",
              "    border: none;\n",
              "    border-radius: 50%;\n",
              "    cursor: pointer;\n",
              "    display: none;\n",
              "    fill: var(--fill-color);\n",
              "    height: 32px;\n",
              "    padding: 0;\n",
              "    width: 32px;\n",
              "  }\n",
              "\n",
              "  .colab-df-quickchart:hover {\n",
              "    background-color: var(--hover-bg-color);\n",
              "    box-shadow: 0 1px 2px rgba(60, 64, 67, 0.3), 0 1px 3px 1px rgba(60, 64, 67, 0.15);\n",
              "    fill: var(--button-hover-fill-color);\n",
              "  }\n",
              "\n",
              "  .colab-df-quickchart-complete:disabled,\n",
              "  .colab-df-quickchart-complete:disabled:hover {\n",
              "    background-color: var(--disabled-bg-color);\n",
              "    fill: var(--disabled-fill-color);\n",
              "    box-shadow: none;\n",
              "  }\n",
              "\n",
              "  .colab-df-spinner {\n",
              "    border: 2px solid var(--fill-color);\n",
              "    border-color: transparent;\n",
              "    border-bottom-color: var(--fill-color);\n",
              "    animation:\n",
              "      spin 1s steps(1) infinite;\n",
              "  }\n",
              "\n",
              "  @keyframes spin {\n",
              "    0% {\n",
              "      border-color: transparent;\n",
              "      border-bottom-color: var(--fill-color);\n",
              "      border-left-color: var(--fill-color);\n",
              "    }\n",
              "    20% {\n",
              "      border-color: transparent;\n",
              "      border-left-color: var(--fill-color);\n",
              "      border-top-color: var(--fill-color);\n",
              "    }\n",
              "    30% {\n",
              "      border-color: transparent;\n",
              "      border-left-color: var(--fill-color);\n",
              "      border-top-color: var(--fill-color);\n",
              "      border-right-color: var(--fill-color);\n",
              "    }\n",
              "    40% {\n",
              "      border-color: transparent;\n",
              "      border-right-color: var(--fill-color);\n",
              "      border-top-color: var(--fill-color);\n",
              "    }\n",
              "    60% {\n",
              "      border-color: transparent;\n",
              "      border-right-color: var(--fill-color);\n",
              "    }\n",
              "    80% {\n",
              "      border-color: transparent;\n",
              "      border-right-color: var(--fill-color);\n",
              "      border-bottom-color: var(--fill-color);\n",
              "    }\n",
              "    90% {\n",
              "      border-color: transparent;\n",
              "      border-bottom-color: var(--fill-color);\n",
              "    }\n",
              "  }\n",
              "</style>\n",
              "\n",
              "      <script>\n",
              "        async function quickchart(key) {\n",
              "          const quickchartButtonEl =\n",
              "            document.querySelector('#' + key + ' button');\n",
              "          quickchartButtonEl.disabled = true;  // To prevent multiple clicks.\n",
              "          quickchartButtonEl.classList.add('colab-df-spinner');\n",
              "          try {\n",
              "            const charts = await google.colab.kernel.invokeFunction(\n",
              "                'suggestCharts', [key], {});\n",
              "          } catch (error) {\n",
              "            console.error('Error during call to suggestCharts:', error);\n",
              "          }\n",
              "          quickchartButtonEl.classList.remove('colab-df-spinner');\n",
              "          quickchartButtonEl.classList.add('colab-df-quickchart-complete');\n",
              "        }\n",
              "        (() => {\n",
              "          let quickchartButtonEl =\n",
              "            document.querySelector('#df-9d49dff0-c7ff-4813-b81e-65dd6d33d9eb button');\n",
              "          quickchartButtonEl.style.display =\n",
              "            google.colab.kernel.accessAllowed ? 'block' : 'none';\n",
              "        })();\n",
              "      </script>\n",
              "    </div>\n",
              "\n",
              "    </div>\n",
              "  </div>\n"
            ],
            "application/vnd.google.colaboratory.intrinsic+json": {
              "type": "dataframe",
              "summary": "{\n  \"name\": \"pd\",\n  \"rows\": 8,\n  \"fields\": [\n    {\n      \"column\": 0,\n      \"properties\": {\n        \"dtype\": \"number\",\n        \"std\": 5.400253238397672,\n        \"min\": 2.526525941551627,\n        \"max\": 20.0,\n        \"num_unique_values\": 8,\n        \"samples\": [\n          16.375,\n          17.0,\n          16.0\n        ],\n        \"semantic_type\": \"\",\n        \"description\": \"\"\n      }\n    }\n  ]\n}"
            }
          },
          "metadata": {},
          "execution_count": 21
        }
      ]
    },
    {
      "cell_type": "code",
      "source": [
        "pd.DataFrame([12, 18, 14, 16, 18, 20, 18, 15, 12, 18, 14, 16, 18, 20, 18, 15]).mode()"
      ],
      "metadata": {
        "colab": {
          "base_uri": "https://localhost:8080/",
          "height": 80
        },
        "id": "wOmJFftibf-P",
        "outputId": "996404b0-916d-4af7-e8ce-210a630cea6e"
      },
      "execution_count": null,
      "outputs": [
        {
          "output_type": "execute_result",
          "data": {
            "text/plain": [
              "    0\n",
              "0  18"
            ],
            "text/html": [
              "\n",
              "  <div id=\"df-90ac1fe9-21fd-4b33-ba5b-9642197b5913\" class=\"colab-df-container\">\n",
              "    <div>\n",
              "<style scoped>\n",
              "    .dataframe tbody tr th:only-of-type {\n",
              "        vertical-align: middle;\n",
              "    }\n",
              "\n",
              "    .dataframe tbody tr th {\n",
              "        vertical-align: top;\n",
              "    }\n",
              "\n",
              "    .dataframe thead th {\n",
              "        text-align: right;\n",
              "    }\n",
              "</style>\n",
              "<table border=\"1\" class=\"dataframe\">\n",
              "  <thead>\n",
              "    <tr style=\"text-align: right;\">\n",
              "      <th></th>\n",
              "      <th>0</th>\n",
              "    </tr>\n",
              "  </thead>\n",
              "  <tbody>\n",
              "    <tr>\n",
              "      <th>0</th>\n",
              "      <td>18</td>\n",
              "    </tr>\n",
              "  </tbody>\n",
              "</table>\n",
              "</div>\n",
              "    <div class=\"colab-df-buttons\">\n",
              "\n",
              "  <div class=\"colab-df-container\">\n",
              "    <button class=\"colab-df-convert\" onclick=\"convertToInteractive('df-90ac1fe9-21fd-4b33-ba5b-9642197b5913')\"\n",
              "            title=\"Convert this dataframe to an interactive table.\"\n",
              "            style=\"display:none;\">\n",
              "\n",
              "  <svg xmlns=\"http://www.w3.org/2000/svg\" height=\"24px\" viewBox=\"0 -960 960 960\">\n",
              "    <path d=\"M120-120v-720h720v720H120Zm60-500h600v-160H180v160Zm220 220h160v-160H400v160Zm0 220h160v-160H400v160ZM180-400h160v-160H180v160Zm440 0h160v-160H620v160ZM180-180h160v-160H180v160Zm440 0h160v-160H620v160Z\"/>\n",
              "  </svg>\n",
              "    </button>\n",
              "\n",
              "  <style>\n",
              "    .colab-df-container {\n",
              "      display:flex;\n",
              "      gap: 12px;\n",
              "    }\n",
              "\n",
              "    .colab-df-convert {\n",
              "      background-color: #E8F0FE;\n",
              "      border: none;\n",
              "      border-radius: 50%;\n",
              "      cursor: pointer;\n",
              "      display: none;\n",
              "      fill: #1967D2;\n",
              "      height: 32px;\n",
              "      padding: 0 0 0 0;\n",
              "      width: 32px;\n",
              "    }\n",
              "\n",
              "    .colab-df-convert:hover {\n",
              "      background-color: #E2EBFA;\n",
              "      box-shadow: 0px 1px 2px rgba(60, 64, 67, 0.3), 0px 1px 3px 1px rgba(60, 64, 67, 0.15);\n",
              "      fill: #174EA6;\n",
              "    }\n",
              "\n",
              "    .colab-df-buttons div {\n",
              "      margin-bottom: 4px;\n",
              "    }\n",
              "\n",
              "    [theme=dark] .colab-df-convert {\n",
              "      background-color: #3B4455;\n",
              "      fill: #D2E3FC;\n",
              "    }\n",
              "\n",
              "    [theme=dark] .colab-df-convert:hover {\n",
              "      background-color: #434B5C;\n",
              "      box-shadow: 0px 1px 3px 1px rgba(0, 0, 0, 0.15);\n",
              "      filter: drop-shadow(0px 1px 2px rgba(0, 0, 0, 0.3));\n",
              "      fill: #FFFFFF;\n",
              "    }\n",
              "  </style>\n",
              "\n",
              "    <script>\n",
              "      const buttonEl =\n",
              "        document.querySelector('#df-90ac1fe9-21fd-4b33-ba5b-9642197b5913 button.colab-df-convert');\n",
              "      buttonEl.style.display =\n",
              "        google.colab.kernel.accessAllowed ? 'block' : 'none';\n",
              "\n",
              "      async function convertToInteractive(key) {\n",
              "        const element = document.querySelector('#df-90ac1fe9-21fd-4b33-ba5b-9642197b5913');\n",
              "        const dataTable =\n",
              "          await google.colab.kernel.invokeFunction('convertToInteractive',\n",
              "                                                    [key], {});\n",
              "        if (!dataTable) return;\n",
              "\n",
              "        const docLinkHtml = 'Like what you see? Visit the ' +\n",
              "          '<a target=\"_blank\" href=https://colab.research.google.com/notebooks/data_table.ipynb>data table notebook</a>'\n",
              "          + ' to learn more about interactive tables.';\n",
              "        element.innerHTML = '';\n",
              "        dataTable['output_type'] = 'display_data';\n",
              "        await google.colab.output.renderOutput(dataTable, element);\n",
              "        const docLink = document.createElement('div');\n",
              "        docLink.innerHTML = docLinkHtml;\n",
              "        element.appendChild(docLink);\n",
              "      }\n",
              "    </script>\n",
              "  </div>\n",
              "\n",
              "\n",
              "    </div>\n",
              "  </div>\n"
            ],
            "application/vnd.google.colaboratory.intrinsic+json": {
              "type": "dataframe",
              "summary": "{\n  \"name\": \"pd\",\n  \"rows\": 1,\n  \"fields\": [\n    {\n      \"column\": 0,\n      \"properties\": {\n        \"dtype\": \"number\",\n        \"std\": null,\n        \"min\": 18,\n        \"max\": 18,\n        \"num_unique_values\": 1,\n        \"samples\": [\n          18\n        ],\n        \"semantic_type\": \"\",\n        \"description\": \"\"\n      }\n    }\n  ]\n}"
            }
          },
          "metadata": {},
          "execution_count": 22
        }
      ]
    },
    {
      "cell_type": "markdown",
      "source": [
        "# **Q4. Levels of Measurement**\n",
        "\n",
        "Objective: Understand classification of data types.\n",
        "\n",
        "Problem:\n",
        "\n",
        "Define and give one example for each level of measurement:\n",
        "\n",
        "● a) Nominal\n",
        "\n",
        "● b) Ordinal\n",
        "\n",
        "● c) Interval\n",
        "\n",
        "● d) Ratio"
      ],
      "metadata": {
        "id": "wgOUD6s3cass"
      }
    },
    {
      "cell_type": "markdown",
      "source": [
        "**a) Nominal**\n",
        "\n",
        "Definition: Data that represent categories with no logical order or ranking. Example: Types of fruits Apple, Banana, Orange.\n",
        "\n",
        "**b) Ordinal**\n",
        "\n",
        "Definition: Data that represent categories with a meaningful order, but the differences between values are not uniform or measurable.\n",
        "\n",
        "Example: Customer satisfaction ratings Poor, Fair, Good, Excellent.\n",
        "\n",
        "**c) Interval**\n",
        "\n",
        "Definition: Numeric data with equal intervals between values, but no true zero point.\n",
        "\n",
        "Example: Temperature in Celsius the difference between 20°C and 30°C is meaningful, but 0°C does not mean \"no temperature.\"\n",
        "\n",
        "**d) Ratio**\n",
        "\n",
        "Definition: Numeric data with equal intervals and a true zero point, allowing for meaningful ratios.\n",
        "\n",
        "Example: Weight in kilograms 0 kg means no weight, and 20 kg is twice as heavy as 10 kg."
      ],
      "metadata": {
        "id": "TDcd42ZRclPT"
      }
    },
    {
      "cell_type": "markdown",
      "source": [
        "# **Q5. Variance and Standard Deviation**\n",
        "\n",
        "a) Define Variance and Standard Deviation.\n",
        "\n",
        "b) Explain why Standard Deviation is more interpretable than Variance."
      ],
      "metadata": {
        "id": "algn1h9Oeogv"
      }
    },
    {
      "cell_type": "markdown",
      "source": [
        "## **a) Define Variance and Standard Deviation.**\n",
        "\n",
        "**Variance:**\n",
        "\n",
        "**Definition:** Variance tells us how much the values in a dataset differ from the average (mean). In simpler terms, it measures how spread out the data is.\n",
        "\n",
        "**Example:** Imagine two classes of students taking a test:\n",
        "\n",
        "Class A: Scores: 80, 85, 90, 95, 100\n",
        "\n",
        "Class B: Scores: 50, 60, 70, 90, 100\n",
        "\n",
        "Class A has scores that are close to each other, while Class B has scores that vary more widely. The variance for Class B will be higher because the scores are more spread out from the average.\n",
        "\n",
        "**Standard Deviation:**\n",
        "\n",
        "**Definition:** Standard deviation is just the square root of variance. It also tells us how spread out the data is, but in a way that is easier to understand because it’s in the same unit as the original data.\n",
        "\n",
        "**Example:** Using the same two classes:\n",
        "\n",
        "Class A: The average score is 90, and the standard deviation might be 5, meaning most scores are within 5 points of the average.\n",
        "\n",
        "Class B: The average score is 70, but the standard deviation could be 20, meaning the scores are more spread out and vary by about 20 points from the average."
      ],
      "metadata": {
        "id": "Oiz1K48WfYVs"
      }
    },
    {
      "cell_type": "markdown",
      "source": [
        "## **b) Explain why Standard Deviation is more interpretable than Variance.**\n",
        "\n",
        "Standard deviation is easier to understand because it is in the same units as the original data, making it directly comparable.\n",
        "\n",
        "Variance, however, is in squared units, which makes it harder to relate to the actual data.\n",
        "\n",
        "Example:\n",
        "\n",
        "If you're measuring the height of students in a class in centimeters:\n",
        "\n",
        "If the standard deviation is 5 cm, you can say, \"On average, students' heights differ by 5 cm from the average height.\"\n",
        "\n",
        "If the variance is 25 cm², it's not as easy to understand because it's in square centimeters, which doesn't directly relate to height.\n",
        "\n",
        "So, standard deviation is more user-friendly because it gives a direct sense of the spread in the same units as the data."
      ],
      "metadata": {
        "id": "Dpkngcz2i0QZ"
      }
    },
    {
      "cell_type": "markdown",
      "source": [
        "# **Q6. Manual Calculation - Variance and Standard Deviation**\n",
        "\n",
        "Given the data:\n",
        " 8, 10, 12, 14, 16, 10, 12, 14, 16\n",
        "\n",
        "Calculate:\n",
        "\n",
        "a) Sample Variance\n",
        "\n",
        "\n",
        "b) Sample Standard Deviation"
      ],
      "metadata": {
        "id": "gHhOsemSezUe"
      }
    },
    {
      "cell_type": "markdown",
      "source": [
        "**Given data:**\n",
        "$8, 10, 12, 14, 16, 10, 12, 14, 16$\n",
        "\n",
        "---\n",
        "\n",
        "## ✅ 1️⃣ **Find the mean ($\\bar{x}$)**\n",
        "\n",
        "$$\n",
        "\\bar{x} = \\frac{\\text{Sum of all values}}{n}  \n",
        "= \\frac{8+10+12+14+16+10+12+14+16}{9}  \n",
        "= \\frac{112}{9} \\approx 12.44\n",
        "$$\n",
        "\n",
        "---\n",
        "\n",
        "## ✅ 2️⃣ **Compute each squared deviation**\n",
        "\n",
        "| x  | $x - \\bar{x}$      | $(x - \\bar{x})^2$ |\n",
        "| -- | ------------------ | ----------------- |\n",
        "| 8  | 8 - 12.44 = -4.44  | 19.71             |\n",
        "| 10 | 10 - 12.44 = -2.44 | 5.95              |\n",
        "| 12 | 12 - 12.44 = -0.44 | 0.19              |\n",
        "| 14 | 14 - 12.44 =  1.56 | 2.43              |\n",
        "| 16 | 16 - 12.44 =  3.56 | 12.67             |\n",
        "| 10 | 10 - 12.44 = -2.44 | 5.95              |\n",
        "| 12 | 12 - 12.44 = -0.44 | 0.19              |\n",
        "| 14 | 14 - 12.44 =  1.56 | 2.43              |\n",
        "| 16 | 16 - 12.44 =  3.56 | 12.67             |\n",
        "\n",
        "\n",
        "---\n",
        "\n",
        "## ✅ 3️⃣ **Sum of squared deviations**\n",
        "\n",
        "$$\n",
        "19.71 + 5.95 + 0.19 + 2.43 + 12.67 + 5.95 + 0.19 + 2.43 + 12.67 = 62.19\n",
        "$$\n",
        "\n",
        "---\n",
        "\n",
        "## ✅ 4️⃣ **Sample Variance ($s^2$)**\n",
        "\n",
        "$$\n",
        "s^2 = \\frac{\\text{Sum of squared deviations}}{n-1}  \n",
        "= \\frac{62.19}{9 - 1}  \n",
        "= \\frac{62.19}{8}  \n",
        "= 7.77\n",
        "$$\n",
        "\n",
        "---\n",
        "\n",
        "## ✅ 5️⃣ **Sample Standard Deviation ($s$)**\n",
        "\n",
        "$$\n",
        "s = \\sqrt{s^2} = \\sqrt{7.77} \\approx 2.79\n",
        "$$\n",
        "\n",
        "---\n",
        "\n",
        "## ✅ ✅ **Final Answers:**\n",
        "\n",
        "|                               | Value    |\n",
        "| ----------------------------- | -------- |\n",
        "| **Sample Variance**           | **7.77** |\n",
        "| **Sample Standard Deviation** | **2.79** |\n"
      ],
      "metadata": {
        "id": "NOlw-15HkUJ_"
      }
    },
    {
      "cell_type": "markdown",
      "source": [
        "# **Q7. Range and Interquartile Range (IQR)**\n",
        "\n",
        "\n",
        " Given the dataset:\n",
        " 22, 29, 25, 31, 35, 40, 45, 48, 50\n",
        "\n",
        "a) Arrange data in ascending order\n",
        "\n",
        "\n",
        "b) Calculate the Range\n",
        "\n",
        "\n",
        "c) Find Q1, Q3, and IQR\n"
      ],
      "metadata": {
        "id": "6ennqX6blWQV"
      }
    },
    {
      "cell_type": "code",
      "source": [
        "# a)"
      ],
      "metadata": {
        "id": "xgLQktnRmqwU"
      },
      "execution_count": null,
      "outputs": []
    },
    {
      "cell_type": "code",
      "source": [
        "asc_ord = sorted([22, 29, 25, 31, 35, 40, 45, 48, 50])"
      ],
      "metadata": {
        "id": "f8ecq3bJkA_v"
      },
      "execution_count": null,
      "outputs": []
    },
    {
      "cell_type": "code",
      "source": [
        "asc_ord"
      ],
      "metadata": {
        "colab": {
          "base_uri": "https://localhost:8080/"
        },
        "id": "7U0GqhLPlq3j",
        "outputId": "265f1a3f-7d4f-44fc-ef6d-e546652710be"
      },
      "execution_count": null,
      "outputs": [
        {
          "output_type": "execute_result",
          "data": {
            "text/plain": [
              "[22, 25, 29, 31, 35, 40, 45, 48, 50]"
            ]
          },
          "metadata": {},
          "execution_count": 5
        }
      ]
    },
    {
      "cell_type": "code",
      "source": [
        "# b)"
      ],
      "metadata": {
        "id": "llgtFy_NmsY3"
      },
      "execution_count": null,
      "outputs": []
    },
    {
      "cell_type": "code",
      "source": [
        "range_ = max(asc_ord) - min(asc_ord)"
      ],
      "metadata": {
        "id": "xO355HbDl59Z"
      },
      "execution_count": null,
      "outputs": []
    },
    {
      "cell_type": "code",
      "source": [
        "range_"
      ],
      "metadata": {
        "colab": {
          "base_uri": "https://localhost:8080/"
        },
        "id": "3AxkZRaUmArc",
        "outputId": "7edb10ab-703a-4346-e09d-5235e3022000"
      },
      "execution_count": null,
      "outputs": [
        {
          "output_type": "execute_result",
          "data": {
            "text/plain": [
              "28"
            ]
          },
          "metadata": {},
          "execution_count": 8
        }
      ]
    },
    {
      "cell_type": "code",
      "source": [
        "# c)"
      ],
      "metadata": {
        "id": "TiMawLPlmuSJ"
      },
      "execution_count": null,
      "outputs": []
    },
    {
      "cell_type": "code",
      "source": [
        "import numpy as np"
      ],
      "metadata": {
        "id": "I52swPU3mXtj"
      },
      "execution_count": null,
      "outputs": []
    },
    {
      "cell_type": "code",
      "source": [
        "q1 = np.percentile(asc_ord, 25)"
      ],
      "metadata": {
        "id": "eu34cF8znCD4"
      },
      "execution_count": null,
      "outputs": []
    },
    {
      "cell_type": "code",
      "source": [
        "q1"
      ],
      "metadata": {
        "colab": {
          "base_uri": "https://localhost:8080/"
        },
        "id": "x6wR9i90ocKb",
        "outputId": "293962a3-5885-400b-abe6-268abf10d678"
      },
      "execution_count": null,
      "outputs": [
        {
          "output_type": "execute_result",
          "data": {
            "text/plain": [
              "np.float64(29.0)"
            ]
          },
          "metadata": {},
          "execution_count": 11
        }
      ]
    },
    {
      "cell_type": "code",
      "source": [
        "q3 = np.percentile(asc_ord, 75)"
      ],
      "metadata": {
        "id": "t_-7cVa5ocVn"
      },
      "execution_count": null,
      "outputs": []
    },
    {
      "cell_type": "code",
      "source": [
        "q3"
      ],
      "metadata": {
        "colab": {
          "base_uri": "https://localhost:8080/"
        },
        "id": "RvVioE8togYx",
        "outputId": "bdfad69d-4c05-4700-e408-5db21cb21f92"
      },
      "execution_count": null,
      "outputs": [
        {
          "output_type": "execute_result",
          "data": {
            "text/plain": [
              "np.float64(45.0)"
            ]
          },
          "metadata": {},
          "execution_count": 13
        }
      ]
    },
    {
      "cell_type": "code",
      "source": [
        "IQR = q3 - q1"
      ],
      "metadata": {
        "id": "yO__8w7wogiy"
      },
      "execution_count": null,
      "outputs": []
    },
    {
      "cell_type": "code",
      "source": [
        "IQR"
      ],
      "metadata": {
        "colab": {
          "base_uri": "https://localhost:8080/"
        },
        "id": "qcd2DORuoqO6",
        "outputId": "ef90fccb-5353-4407-c7ee-42bca6a22aba"
      },
      "execution_count": null,
      "outputs": [
        {
          "output_type": "execute_result",
          "data": {
            "text/plain": [
              "np.float64(16.0)"
            ]
          },
          "metadata": {},
          "execution_count": 15
        }
      ]
    },
    {
      "cell_type": "markdown",
      "source": [
        "# **Q8. Five-number Summary and Boxplot Concept**\n",
        "\n",
        "## Define the Five-number Summary and explain each component:\n",
        "\n",
        "\n",
        "- **Minimum** - Smallest value in the dataset\n",
        "\n",
        "\n",
        "- **Q1 (First Quartile)** - 25 percentile of the dataset\n",
        "\n",
        "\n",
        "- **Median** - 50 percentile of the dataset (Q2)\n",
        "\n",
        "\n",
        "- **Q3 (Third Quartile)** - 75 percentile of the dataset\n",
        "\n",
        "\n",
        "- **Maximum** - Largest value in the dataset\n"
      ],
      "metadata": {
        "id": "PH9NnJ6bo7RF"
      }
    },
    {
      "cell_type": "markdown",
      "source": [
        "## Describe how boxplots help in detecting outliers."
      ],
      "metadata": {
        "id": "RF2rIonfpI9w"
      }
    },
    {
      "cell_type": "markdown",
      "source": [
        "Datapoints below lower and above upper bound are outliers"
      ],
      "metadata": {
        "id": "pPg-TuVoqCwC"
      }
    },
    {
      "cell_type": "markdown",
      "source": [
        "![image.png](data:image/png;base64,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)"
      ],
      "metadata": {
        "id": "yq4eR6efp-V4"
      }
    },
    {
      "cell_type": "markdown",
      "source": [
        "# **Q9. Confidence Interval for the Mean**\n",
        "\n",
        "**Objective:** Estimate population means using sample data.\n",
        "\n",
        "**Problem:**\n",
        " A sample of 36 students has an average height of 162 cm with a standard deviation of 6 cm.\n",
        " Calculate the 95% Confidence Interval for the population mean.\n",
        " (Hint: Use Z = 1.96 for 95% confidence)"
      ],
      "metadata": {
        "id": "BfRqMH4nrNF9"
      }
    },
    {
      "cell_type": "markdown",
      "source": [
        "---\n",
        "\n",
        "## ✅ **Given:**\n",
        "\n",
        "| Parameter                       | Value  |\n",
        "| ------------------------------- | ------ |\n",
        "| Sample size ($n$)               | 36     |\n",
        "| Sample mean ($\\bar{x}$)         | 162 cm |\n",
        "| Sample standard deviation ($s$) | 6 cm   |\n",
        "| Z-value for 95% confidence      | 1.96   |\n",
        "\n",
        "---\n",
        "\n",
        "## ✅ **Step 1: Find the Standard Error (SE)**\n",
        "\n",
        "$$\n",
        "SE = \\frac{s}{\\sqrt{n}}\n",
        "$$\n",
        "\n",
        "$$\n",
        "SE = \\frac{6}{\\sqrt{36}} = \\frac{6}{6} = 1\n",
        "$$\n",
        "\n",
        "---\n",
        "\n",
        "## ✅ **Step 2: Find the Margin of Error (ME)**\n",
        "\n",
        "$$\n",
        "ME = Z \\times SE = 1.96 \\times 1 = 1.96\n",
        "$$\n",
        "\n",
        "---\n",
        "\n",
        "## ✅ **Step 3: Compute the Confidence Interval**\n",
        "\n",
        "$$\n",
        "\\text{Lower limit} = \\bar{x} - ME = 162 - 1.96 = 160.04\n",
        "$$\n",
        "\n",
        "$$\n",
        "\\text{Upper limit} = \\bar{x} + ME = 162 + 1.96 = 163.96\n",
        "$$\n",
        "\n",
        "---\n",
        "\n",
        "## ✅ ✅ **Final Answer:**\n",
        "\n",
        "|                                                 | Value                      |\n",
        "| ----------------------------------------------- | -------------------------- |\n",
        "| **95% Confidence Interval for the mean height** | **(160.04 cm, 163.96 cm)** |\n"
      ],
      "metadata": {
        "id": "PlOQbY7dsW3O"
      }
    },
    {
      "cell_type": "markdown",
      "source": [
        "# **Q10. Hypothesis Testing - One Sample Z-Test**\n",
        "\n",
        "**Objective:** Make decisions using statistical testing.\n",
        "\n",
        "**Problem:**\n",
        " The average salary in a city is ₹30,000. A random sample of 49 employees has an average salary of ₹31,000 with a standard deviation of ₹4,900.\n",
        " Test the hypothesis at the 5% level of significance to determine if the average salary has increased."
      ],
      "metadata": {
        "id": "qz7HN4DCtzAe"
      }
    },
    {
      "cell_type": "markdown",
      "source": [
        "#**Problem:**\n",
        "\n",
        "We want to check if the average salary in a city has increased from ₹30,000.\n",
        "We took a sample of 49 people and found their average salary is ₹31,000, with a standard deviation of ₹4,900.\n",
        "We are checking this at a 5% significance level (which means we're okay with a 5% chance of being wrong)."
      ],
      "metadata": {
        "id": "Vonmm9-QOub9"
      }
    },
    {
      "cell_type": "markdown",
      "source": [
        "| Parameter                            | Value   |\n",
        "| ------------------------------------ | ------- |\n",
        "| Population mean ($\\mu_0$)            | ₹30,000 |\n",
        "| Sample mean ($\\bar{x}$)              | ₹31,000 |\n",
        "| Sample size ($n$)                    | 49      |\n",
        "| Sample standard deviation ($s$)      | ₹4,900  |\n",
        "| Significance level ($\\alpha$)        | 5%      |\n",
        "| Z critical value for 5% (two-tailed) | ±1.96   |\n"
      ],
      "metadata": {
        "id": "3YGrSxi_u45T"
      }
    },
    {
      "cell_type": "markdown",
      "source": [
        "a) State the null and alternative hypothesis:"
      ],
      "metadata": {
        "id": "Vwm9j5kkt5J3"
      }
    },
    {
      "cell_type": "markdown",
      "source": [
        "![image.png](data:image/png;base64,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)"
      ],
      "metadata": {
        "id": "pFM9Ruh2ugdk"
      }
    },
    {
      "cell_type": "markdown",
      "source": [
        "**Null Hypothesis (H₀):** The average salary has not increased. It’s still ₹30,000.\n",
        "\n",
        "**Alternative Hypothesis (H₁):** The average salary has increased. It’s more than ₹30,000.\n",
        "\n",
        "**So, we are trying to find enough evidence to say: \"Yes, salaries have increased.**\"\n",
        "\n"
      ],
      "metadata": {
        "id": "WP8h0w8rPKWU"
      }
    },
    {
      "cell_type": "markdown",
      "source": [
        "b) Calculate the Z-score:"
      ],
      "metadata": {
        "id": "wT-Yv3yLt7sW"
      }
    },
    {
      "cell_type": "markdown",
      "source": [
        "![image.png](data:image/png;base64,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)"
      ],
      "metadata": {
        "id": "dMODXhxsPhNM"
      }
    },
    {
      "cell_type": "markdown",
      "source": [
        "---\n",
        "\n",
        "## ✅ **(b) Calculate the Z-score**\n",
        "\n",
        "$$\n",
        "Z = \\frac{\\bar{x} - \\mu_0}{SE}\n",
        "$$\n",
        "\n",
        "First, calculate the Standard Error (SE):\n",
        "\n",
        "$$\n",
        "SE = \\frac{s}{\\sqrt{n}} = \\frac{4,900}{\\sqrt{49}} = \\frac{4,900}{7} = 700\n",
        "$$\n",
        "\n",
        "Now,\n",
        "\n",
        "$$\n",
        "Z = \\frac{31,000 - 30,000}{700} = \\frac{1,000}{700} \\approx 1.43\n",
        "$$\n",
        "\n",
        "So, Z = 1.43. This tells us how many standard steps away our sample is from the average.\n",
        "---"
      ],
      "metadata": {
        "id": "L8Za7GLMu0wp"
      }
    },
    {
      "cell_type": "markdown",
      "source": [
        "#**c) Conclude the result using critical value (α = 0.05):**\n",
        "\n",
        "- **Z = 1.43**\n",
        "- **Critical Value = 1.96**\n",
        "\n",
        "🔹 Since **1.43 < 1.96**, we **fail to reject H₀**.\n",
        "* **Interpretation:** There is **no significant evidence** at the 5% level that the average salary is different from ₹30,000."
      ],
      "metadata": {
        "id": "KlkOyoSLt9zC"
      }
    },
    {
      "cell_type": "markdown",
      "source": [
        "#**Final Conclusion:**✅\n",
        "\n",
        "\n",
        "|                        | Answer                                                                               |\n",
        "| ---------------------- | ------------------------------------------------------------------------------------ |\n",
        "| Null Hypothesis        | mean = 30,000                                                                        |\n",
        "| Alternative Hypothesis | mean ≠ 30,000                                                                        |\n",
        "| Z-score                | 1.43                                                                                 |\n",
        "| Critical Z             | ±1.96                                                                                |\n",
        "| Conclusion             | **1.43 is inside ±1.96 → do not reject H₀ → salary is not significantly different.** |\n",
        "\n",
        "\n",
        "- There is **not enough proof** to say the **average salary** has **increased**.\n",
        "- Even though our sample average is higher (₹31,000), the difference is not big enough to confidently say it's not just random chance.\n",
        "\n",
        "- **So, we stick with the idea that the average salary is still ₹30,000.**"
      ],
      "metadata": {
        "id": "Tk86S-YxPzk0"
      }
    },
    {
      "cell_type": "markdown",
      "source": [
        "# **Real-World Example: Applying Descriptive and Inferential Statistics on the Tips Dataset**\n",
        "\n",
        "To demonstrate how statistical concepts are used in practical scenarios, we use the `tips` dataset from the Seaborn library. This dataset contains information about restaurant bills, tips, customer gender, and other details.\n",
        "\n",
        "We’ll apply both **descriptive** and **inferential** statistics:\n",
        "\n",
        "1. **Descriptive Statistics** – To summarize the data.\n",
        "2. **Inferential Statistics** – To compare average total bills between male and female customers using hypothesis testing.\n"
      ],
      "metadata": {
        "id": "WzZI78CzXm3u"
      }
    },
    {
      "cell_type": "code",
      "source": [
        "#import neccesary libraries\n",
        "import seaborn as sns\n",
        "import pandas as pd"
      ],
      "metadata": {
        "id": "n0w0yPNaXlNx"
      },
      "execution_count": 1,
      "outputs": []
    },
    {
      "cell_type": "code",
      "source": [
        "# Load dataset\n",
        "df = sns.load_dataset('tips')"
      ],
      "metadata": {
        "id": "-uSfyK9GXwDF"
      },
      "execution_count": 2,
      "outputs": []
    },
    {
      "cell_type": "code",
      "source": [
        "# Display the first few rows\n",
        "df.head()"
      ],
      "metadata": {
        "colab": {
          "base_uri": "https://localhost:8080/",
          "height": 206
        },
        "id": "zyPyebYkXyKR",
        "outputId": "d7b27c5a-a9ab-4909-8fa6-7961b3c22d7d"
      },
      "execution_count": 3,
      "outputs": [
        {
          "output_type": "execute_result",
          "data": {
            "text/plain": [
              "   total_bill   tip     sex smoker  day    time  size\n",
              "0       16.99  1.01  Female     No  Sun  Dinner     2\n",
              "1       10.34  1.66    Male     No  Sun  Dinner     3\n",
              "2       21.01  3.50    Male     No  Sun  Dinner     3\n",
              "3       23.68  3.31    Male     No  Sun  Dinner     2\n",
              "4       24.59  3.61  Female     No  Sun  Dinner     4"
            ],
            "text/html": [
              "\n",
              "  <div id=\"df-78827f68-4bdd-4507-b93b-ef8b28b57b5c\" class=\"colab-df-container\">\n",
              "    <div>\n",
              "<style scoped>\n",
              "    .dataframe tbody tr th:only-of-type {\n",
              "        vertical-align: middle;\n",
              "    }\n",
              "\n",
              "    .dataframe tbody tr th {\n",
              "        vertical-align: top;\n",
              "    }\n",
              "\n",
              "    .dataframe thead th {\n",
              "        text-align: right;\n",
              "    }\n",
              "</style>\n",
              "<table border=\"1\" class=\"dataframe\">\n",
              "  <thead>\n",
              "    <tr style=\"text-align: right;\">\n",
              "      <th></th>\n",
              "      <th>total_bill</th>\n",
              "      <th>tip</th>\n",
              "      <th>sex</th>\n",
              "      <th>smoker</th>\n",
              "      <th>day</th>\n",
              "      <th>time</th>\n",
              "      <th>size</th>\n",
              "    </tr>\n",
              "  </thead>\n",
              "  <tbody>\n",
              "    <tr>\n",
              "      <th>0</th>\n",
              "      <td>16.99</td>\n",
              "      <td>1.01</td>\n",
              "      <td>Female</td>\n",
              "      <td>No</td>\n",
              "      <td>Sun</td>\n",
              "      <td>Dinner</td>\n",
              "      <td>2</td>\n",
              "    </tr>\n",
              "    <tr>\n",
              "      <th>1</th>\n",
              "      <td>10.34</td>\n",
              "      <td>1.66</td>\n",
              "      <td>Male</td>\n",
              "      <td>No</td>\n",
              "      <td>Sun</td>\n",
              "      <td>Dinner</td>\n",
              "      <td>3</td>\n",
              "    </tr>\n",
              "    <tr>\n",
              "      <th>2</th>\n",
              "      <td>21.01</td>\n",
              "      <td>3.50</td>\n",
              "      <td>Male</td>\n",
              "      <td>No</td>\n",
              "      <td>Sun</td>\n",
              "      <td>Dinner</td>\n",
              "      <td>3</td>\n",
              "    </tr>\n",
              "    <tr>\n",
              "      <th>3</th>\n",
              "      <td>23.68</td>\n",
              "      <td>3.31</td>\n",
              "      <td>Male</td>\n",
              "      <td>No</td>\n",
              "      <td>Sun</td>\n",
              "      <td>Dinner</td>\n",
              "      <td>2</td>\n",
              "    </tr>\n",
              "    <tr>\n",
              "      <th>4</th>\n",
              "      <td>24.59</td>\n",
              "      <td>3.61</td>\n",
              "      <td>Female</td>\n",
              "      <td>No</td>\n",
              "      <td>Sun</td>\n",
              "      <td>Dinner</td>\n",
              "      <td>4</td>\n",
              "    </tr>\n",
              "  </tbody>\n",
              "</table>\n",
              "</div>\n",
              "    <div class=\"colab-df-buttons\">\n",
              "\n",
              "  <div class=\"colab-df-container\">\n",
              "    <button class=\"colab-df-convert\" onclick=\"convertToInteractive('df-78827f68-4bdd-4507-b93b-ef8b28b57b5c')\"\n",
              "            title=\"Convert this dataframe to an interactive table.\"\n",
              "            style=\"display:none;\">\n",
              "\n",
              "  <svg xmlns=\"http://www.w3.org/2000/svg\" height=\"24px\" viewBox=\"0 -960 960 960\">\n",
              "    <path d=\"M120-120v-720h720v720H120Zm60-500h600v-160H180v160Zm220 220h160v-160H400v160Zm0 220h160v-160H400v160ZM180-400h160v-160H180v160Zm440 0h160v-160H620v160ZM180-180h160v-160H180v160Zm440 0h160v-160H620v160Z\"/>\n",
              "  </svg>\n",
              "    </button>\n",
              "\n",
              "  <style>\n",
              "    .colab-df-container {\n",
              "      display:flex;\n",
              "      gap: 12px;\n",
              "    }\n",
              "\n",
              "    .colab-df-convert {\n",
              "      background-color: #E8F0FE;\n",
              "      border: none;\n",
              "      border-radius: 50%;\n",
              "      cursor: pointer;\n",
              "      display: none;\n",
              "      fill: #1967D2;\n",
              "      height: 32px;\n",
              "      padding: 0 0 0 0;\n",
              "      width: 32px;\n",
              "    }\n",
              "\n",
              "    .colab-df-convert:hover {\n",
              "      background-color: #E2EBFA;\n",
              "      box-shadow: 0px 1px 2px rgba(60, 64, 67, 0.3), 0px 1px 3px 1px rgba(60, 64, 67, 0.15);\n",
              "      fill: #174EA6;\n",
              "    }\n",
              "\n",
              "    .colab-df-buttons div {\n",
              "      margin-bottom: 4px;\n",
              "    }\n",
              "\n",
              "    [theme=dark] .colab-df-convert {\n",
              "      background-color: #3B4455;\n",
              "      fill: #D2E3FC;\n",
              "    }\n",
              "\n",
              "    [theme=dark] .colab-df-convert:hover {\n",
              "      background-color: #434B5C;\n",
              "      box-shadow: 0px 1px 3px 1px rgba(0, 0, 0, 0.15);\n",
              "      filter: drop-shadow(0px 1px 2px rgba(0, 0, 0, 0.3));\n",
              "      fill: #FFFFFF;\n",
              "    }\n",
              "  </style>\n",
              "\n",
              "    <script>\n",
              "      const buttonEl =\n",
              "        document.querySelector('#df-78827f68-4bdd-4507-b93b-ef8b28b57b5c button.colab-df-convert');\n",
              "      buttonEl.style.display =\n",
              "        google.colab.kernel.accessAllowed ? 'block' : 'none';\n",
              "\n",
              "      async function convertToInteractive(key) {\n",
              "        const element = document.querySelector('#df-78827f68-4bdd-4507-b93b-ef8b28b57b5c');\n",
              "        const dataTable =\n",
              "          await google.colab.kernel.invokeFunction('convertToInteractive',\n",
              "                                                    [key], {});\n",
              "        if (!dataTable) return;\n",
              "\n",
              "        const docLinkHtml = 'Like what you see? Visit the ' +\n",
              "          '<a target=\"_blank\" href=https://colab.research.google.com/notebooks/data_table.ipynb>data table notebook</a>'\n",
              "          + ' to learn more about interactive tables.';\n",
              "        element.innerHTML = '';\n",
              "        dataTable['output_type'] = 'display_data';\n",
              "        await google.colab.output.renderOutput(dataTable, element);\n",
              "        const docLink = document.createElement('div');\n",
              "        docLink.innerHTML = docLinkHtml;\n",
              "        element.appendChild(docLink);\n",
              "      }\n",
              "    </script>\n",
              "  </div>\n",
              "\n",
              "\n",
              "    <div id=\"df-ed020b4c-c6b2-4b4d-a5ce-5df5d8b39f8a\">\n",
              "      <button class=\"colab-df-quickchart\" onclick=\"quickchart('df-ed020b4c-c6b2-4b4d-a5ce-5df5d8b39f8a')\"\n",
              "                title=\"Suggest charts\"\n",
              "                style=\"display:none;\">\n",
              "\n",
              "<svg xmlns=\"http://www.w3.org/2000/svg\" height=\"24px\"viewBox=\"0 0 24 24\"\n",
              "     width=\"24px\">\n",
              "    <g>\n",
              "        <path d=\"M19 3H5c-1.1 0-2 .9-2 2v14c0 1.1.9 2 2 2h14c1.1 0 2-.9 2-2V5c0-1.1-.9-2-2-2zM9 17H7v-7h2v7zm4 0h-2V7h2v10zm4 0h-2v-4h2v4z\"/>\n",
              "    </g>\n",
              "</svg>\n",
              "      </button>\n",
              "\n",
              "<style>\n",
              "  .colab-df-quickchart {\n",
              "      --bg-color: #E8F0FE;\n",
              "      --fill-color: #1967D2;\n",
              "      --hover-bg-color: #E2EBFA;\n",
              "      --hover-fill-color: #174EA6;\n",
              "      --disabled-fill-color: #AAA;\n",
              "      --disabled-bg-color: #DDD;\n",
              "  }\n",
              "\n",
              "  [theme=dark] .colab-df-quickchart {\n",
              "      --bg-color: #3B4455;\n",
              "      --fill-color: #D2E3FC;\n",
              "      --hover-bg-color: #434B5C;\n",
              "      --hover-fill-color: #FFFFFF;\n",
              "      --disabled-bg-color: #3B4455;\n",
              "      --disabled-fill-color: #666;\n",
              "  }\n",
              "\n",
              "  .colab-df-quickchart {\n",
              "    background-color: var(--bg-color);\n",
              "    border: none;\n",
              "    border-radius: 50%;\n",
              "    cursor: pointer;\n",
              "    display: none;\n",
              "    fill: var(--fill-color);\n",
              "    height: 32px;\n",
              "    padding: 0;\n",
              "    width: 32px;\n",
              "  }\n",
              "\n",
              "  .colab-df-quickchart:hover {\n",
              "    background-color: var(--hover-bg-color);\n",
              "    box-shadow: 0 1px 2px rgba(60, 64, 67, 0.3), 0 1px 3px 1px rgba(60, 64, 67, 0.15);\n",
              "    fill: var(--button-hover-fill-color);\n",
              "  }\n",
              "\n",
              "  .colab-df-quickchart-complete:disabled,\n",
              "  .colab-df-quickchart-complete:disabled:hover {\n",
              "    background-color: var(--disabled-bg-color);\n",
              "    fill: var(--disabled-fill-color);\n",
              "    box-shadow: none;\n",
              "  }\n",
              "\n",
              "  .colab-df-spinner {\n",
              "    border: 2px solid var(--fill-color);\n",
              "    border-color: transparent;\n",
              "    border-bottom-color: var(--fill-color);\n",
              "    animation:\n",
              "      spin 1s steps(1) infinite;\n",
              "  }\n",
              "\n",
              "  @keyframes spin {\n",
              "    0% {\n",
              "      border-color: transparent;\n",
              "      border-bottom-color: var(--fill-color);\n",
              "      border-left-color: var(--fill-color);\n",
              "    }\n",
              "    20% {\n",
              "      border-color: transparent;\n",
              "      border-left-color: var(--fill-color);\n",
              "      border-top-color: var(--fill-color);\n",
              "    }\n",
              "    30% {\n",
              "      border-color: transparent;\n",
              "      border-left-color: var(--fill-color);\n",
              "      border-top-color: var(--fill-color);\n",
              "      border-right-color: var(--fill-color);\n",
              "    }\n",
              "    40% {\n",
              "      border-color: transparent;\n",
              "      border-right-color: var(--fill-color);\n",
              "      border-top-color: var(--fill-color);\n",
              "    }\n",
              "    60% {\n",
              "      border-color: transparent;\n",
              "      border-right-color: var(--fill-color);\n",
              "    }\n",
              "    80% {\n",
              "      border-color: transparent;\n",
              "      border-right-color: var(--fill-color);\n",
              "      border-bottom-color: var(--fill-color);\n",
              "    }\n",
              "    90% {\n",
              "      border-color: transparent;\n",
              "      border-bottom-color: var(--fill-color);\n",
              "    }\n",
              "  }\n",
              "</style>\n",
              "\n",
              "      <script>\n",
              "        async function quickchart(key) {\n",
              "          const quickchartButtonEl =\n",
              "            document.querySelector('#' + key + ' button');\n",
              "          quickchartButtonEl.disabled = true;  // To prevent multiple clicks.\n",
              "          quickchartButtonEl.classList.add('colab-df-spinner');\n",
              "          try {\n",
              "            const charts = await google.colab.kernel.invokeFunction(\n",
              "                'suggestCharts', [key], {});\n",
              "          } catch (error) {\n",
              "            console.error('Error during call to suggestCharts:', error);\n",
              "          }\n",
              "          quickchartButtonEl.classList.remove('colab-df-spinner');\n",
              "          quickchartButtonEl.classList.add('colab-df-quickchart-complete');\n",
              "        }\n",
              "        (() => {\n",
              "          let quickchartButtonEl =\n",
              "            document.querySelector('#df-ed020b4c-c6b2-4b4d-a5ce-5df5d8b39f8a button');\n",
              "          quickchartButtonEl.style.display =\n",
              "            google.colab.kernel.accessAllowed ? 'block' : 'none';\n",
              "        })();\n",
              "      </script>\n",
              "    </div>\n",
              "\n",
              "    </div>\n",
              "  </div>\n"
            ],
            "application/vnd.google.colaboratory.intrinsic+json": {
              "type": "dataframe",
              "variable_name": "df",
              "summary": "{\n  \"name\": \"df\",\n  \"rows\": 244,\n  \"fields\": [\n    {\n      \"column\": \"total_bill\",\n      \"properties\": {\n        \"dtype\": \"number\",\n        \"std\": 8.902411954856856,\n        \"min\": 3.07,\n        \"max\": 50.81,\n        \"num_unique_values\": 229,\n        \"samples\": [\n          22.12,\n          20.23,\n          14.78\n        ],\n        \"semantic_type\": \"\",\n        \"description\": \"\"\n      }\n    },\n    {\n      \"column\": \"tip\",\n      \"properties\": {\n        \"dtype\": \"number\",\n        \"std\": 1.3836381890011826,\n        \"min\": 1.0,\n        \"max\": 10.0,\n        \"num_unique_values\": 123,\n        \"samples\": [\n          3.35,\n          1.5,\n          6.73\n        ],\n        \"semantic_type\": \"\",\n        \"description\": \"\"\n      }\n    },\n    {\n      \"column\": \"sex\",\n      \"properties\": {\n        \"dtype\": \"category\",\n        \"num_unique_values\": 2,\n        \"samples\": [\n          \"Male\",\n          \"Female\"\n        ],\n        \"semantic_type\": \"\",\n        \"description\": \"\"\n      }\n    },\n    {\n      \"column\": \"smoker\",\n      \"properties\": {\n        \"dtype\": \"category\",\n        \"num_unique_values\": 2,\n        \"samples\": [\n          \"Yes\",\n          \"No\"\n        ],\n        \"semantic_type\": \"\",\n        \"description\": \"\"\n      }\n    },\n    {\n      \"column\": \"day\",\n      \"properties\": {\n        \"dtype\": \"category\",\n        \"num_unique_values\": 4,\n        \"samples\": [\n          \"Sat\",\n          \"Fri\"\n        ],\n        \"semantic_type\": \"\",\n        \"description\": \"\"\n      }\n    },\n    {\n      \"column\": \"time\",\n      \"properties\": {\n        \"dtype\": \"category\",\n        \"num_unique_values\": 2,\n        \"samples\": [\n          \"Lunch\",\n          \"Dinner\"\n        ],\n        \"semantic_type\": \"\",\n        \"description\": \"\"\n      }\n    },\n    {\n      \"column\": \"size\",\n      \"properties\": {\n        \"dtype\": \"number\",\n        \"std\": 0,\n        \"min\": 1,\n        \"max\": 6,\n        \"num_unique_values\": 6,\n        \"samples\": [\n          2,\n          3\n        ],\n        \"semantic_type\": \"\",\n        \"description\": \"\"\n      }\n    }\n  ]\n}"
            }
          },
          "metadata": {},
          "execution_count": 3
        }
      ]
    },
    {
      "cell_type": "markdown",
      "source": [
        "#🔹 **Descriptive Statistics**"
      ],
      "metadata": {
        "id": "zDsX1xqQX-fL"
      }
    },
    {
      "cell_type": "code",
      "source": [
        "# Basic summary statistics\n",
        "df.describe()\n"
      ],
      "metadata": {
        "colab": {
          "base_uri": "https://localhost:8080/",
          "height": 300
        },
        "id": "Li2QdMqkX3uF",
        "outputId": "dc1dd859-9834-4053-bac5-19a11d3bb21f"
      },
      "execution_count": 4,
      "outputs": [
        {
          "output_type": "execute_result",
          "data": {
            "text/plain": [
              "       total_bill         tip        size\n",
              "count  244.000000  244.000000  244.000000\n",
              "mean    19.785943    2.998279    2.569672\n",
              "std      8.902412    1.383638    0.951100\n",
              "min      3.070000    1.000000    1.000000\n",
              "25%     13.347500    2.000000    2.000000\n",
              "50%     17.795000    2.900000    2.000000\n",
              "75%     24.127500    3.562500    3.000000\n",
              "max     50.810000   10.000000    6.000000"
            ],
            "text/html": [
              "\n",
              "  <div id=\"df-aa443d53-a93c-4e33-8ecc-054d827c2137\" class=\"colab-df-container\">\n",
              "    <div>\n",
              "<style scoped>\n",
              "    .dataframe tbody tr th:only-of-type {\n",
              "        vertical-align: middle;\n",
              "    }\n",
              "\n",
              "    .dataframe tbody tr th {\n",
              "        vertical-align: top;\n",
              "    }\n",
              "\n",
              "    .dataframe thead th {\n",
              "        text-align: right;\n",
              "    }\n",
              "</style>\n",
              "<table border=\"1\" class=\"dataframe\">\n",
              "  <thead>\n",
              "    <tr style=\"text-align: right;\">\n",
              "      <th></th>\n",
              "      <th>total_bill</th>\n",
              "      <th>tip</th>\n",
              "      <th>size</th>\n",
              "    </tr>\n",
              "  </thead>\n",
              "  <tbody>\n",
              "    <tr>\n",
              "      <th>count</th>\n",
              "      <td>244.000000</td>\n",
              "      <td>244.000000</td>\n",
              "      <td>244.000000</td>\n",
              "    </tr>\n",
              "    <tr>\n",
              "      <th>mean</th>\n",
              "      <td>19.785943</td>\n",
              "      <td>2.998279</td>\n",
              "      <td>2.569672</td>\n",
              "    </tr>\n",
              "    <tr>\n",
              "      <th>std</th>\n",
              "      <td>8.902412</td>\n",
              "      <td>1.383638</td>\n",
              "      <td>0.951100</td>\n",
              "    </tr>\n",
              "    <tr>\n",
              "      <th>min</th>\n",
              "      <td>3.070000</td>\n",
              "      <td>1.000000</td>\n",
              "      <td>1.000000</td>\n",
              "    </tr>\n",
              "    <tr>\n",
              "      <th>25%</th>\n",
              "      <td>13.347500</td>\n",
              "      <td>2.000000</td>\n",
              "      <td>2.000000</td>\n",
              "    </tr>\n",
              "    <tr>\n",
              "      <th>50%</th>\n",
              "      <td>17.795000</td>\n",
              "      <td>2.900000</td>\n",
              "      <td>2.000000</td>\n",
              "    </tr>\n",
              "    <tr>\n",
              "      <th>75%</th>\n",
              "      <td>24.127500</td>\n",
              "      <td>3.562500</td>\n",
              "      <td>3.000000</td>\n",
              "    </tr>\n",
              "    <tr>\n",
              "      <th>max</th>\n",
              "      <td>50.810000</td>\n",
              "      <td>10.000000</td>\n",
              "      <td>6.000000</td>\n",
              "    </tr>\n",
              "  </tbody>\n",
              "</table>\n",
              "</div>\n",
              "    <div class=\"colab-df-buttons\">\n",
              "\n",
              "  <div class=\"colab-df-container\">\n",
              "    <button class=\"colab-df-convert\" onclick=\"convertToInteractive('df-aa443d53-a93c-4e33-8ecc-054d827c2137')\"\n",
              "            title=\"Convert this dataframe to an interactive table.\"\n",
              "            style=\"display:none;\">\n",
              "\n",
              "  <svg xmlns=\"http://www.w3.org/2000/svg\" height=\"24px\" viewBox=\"0 -960 960 960\">\n",
              "    <path d=\"M120-120v-720h720v720H120Zm60-500h600v-160H180v160Zm220 220h160v-160H400v160Zm0 220h160v-160H400v160ZM180-400h160v-160H180v160Zm440 0h160v-160H620v160ZM180-180h160v-160H180v160Zm440 0h160v-160H620v160Z\"/>\n",
              "  </svg>\n",
              "    </button>\n",
              "\n",
              "  <style>\n",
              "    .colab-df-container {\n",
              "      display:flex;\n",
              "      gap: 12px;\n",
              "    }\n",
              "\n",
              "    .colab-df-convert {\n",
              "      background-color: #E8F0FE;\n",
              "      border: none;\n",
              "      border-radius: 50%;\n",
              "      cursor: pointer;\n",
              "      display: none;\n",
              "      fill: #1967D2;\n",
              "      height: 32px;\n",
              "      padding: 0 0 0 0;\n",
              "      width: 32px;\n",
              "    }\n",
              "\n",
              "    .colab-df-convert:hover {\n",
              "      background-color: #E2EBFA;\n",
              "      box-shadow: 0px 1px 2px rgba(60, 64, 67, 0.3), 0px 1px 3px 1px rgba(60, 64, 67, 0.15);\n",
              "      fill: #174EA6;\n",
              "    }\n",
              "\n",
              "    .colab-df-buttons div {\n",
              "      margin-bottom: 4px;\n",
              "    }\n",
              "\n",
              "    [theme=dark] .colab-df-convert {\n",
              "      background-color: #3B4455;\n",
              "      fill: #D2E3FC;\n",
              "    }\n",
              "\n",
              "    [theme=dark] .colab-df-convert:hover {\n",
              "      background-color: #434B5C;\n",
              "      box-shadow: 0px 1px 3px 1px rgba(0, 0, 0, 0.15);\n",
              "      filter: drop-shadow(0px 1px 2px rgba(0, 0, 0, 0.3));\n",
              "      fill: #FFFFFF;\n",
              "    }\n",
              "  </style>\n",
              "\n",
              "    <script>\n",
              "      const buttonEl =\n",
              "        document.querySelector('#df-aa443d53-a93c-4e33-8ecc-054d827c2137 button.colab-df-convert');\n",
              "      buttonEl.style.display =\n",
              "        google.colab.kernel.accessAllowed ? 'block' : 'none';\n",
              "\n",
              "      async function convertToInteractive(key) {\n",
              "        const element = document.querySelector('#df-aa443d53-a93c-4e33-8ecc-054d827c2137');\n",
              "        const dataTable =\n",
              "          await google.colab.kernel.invokeFunction('convertToInteractive',\n",
              "                                                    [key], {});\n",
              "        if (!dataTable) return;\n",
              "\n",
              "        const docLinkHtml = 'Like what you see? Visit the ' +\n",
              "          '<a target=\"_blank\" href=https://colab.research.google.com/notebooks/data_table.ipynb>data table notebook</a>'\n",
              "          + ' to learn more about interactive tables.';\n",
              "        element.innerHTML = '';\n",
              "        dataTable['output_type'] = 'display_data';\n",
              "        await google.colab.output.renderOutput(dataTable, element);\n",
              "        const docLink = document.createElement('div');\n",
              "        docLink.innerHTML = docLinkHtml;\n",
              "        element.appendChild(docLink);\n",
              "      }\n",
              "    </script>\n",
              "  </div>\n",
              "\n",
              "\n",
              "    <div id=\"df-9af8031c-2139-4211-9c01-f5270b4c9ca7\">\n",
              "      <button class=\"colab-df-quickchart\" onclick=\"quickchart('df-9af8031c-2139-4211-9c01-f5270b4c9ca7')\"\n",
              "                title=\"Suggest charts\"\n",
              "                style=\"display:none;\">\n",
              "\n",
              "<svg xmlns=\"http://www.w3.org/2000/svg\" height=\"24px\"viewBox=\"0 0 24 24\"\n",
              "     width=\"24px\">\n",
              "    <g>\n",
              "        <path d=\"M19 3H5c-1.1 0-2 .9-2 2v14c0 1.1.9 2 2 2h14c1.1 0 2-.9 2-2V5c0-1.1-.9-2-2-2zM9 17H7v-7h2v7zm4 0h-2V7h2v10zm4 0h-2v-4h2v4z\"/>\n",
              "    </g>\n",
              "</svg>\n",
              "      </button>\n",
              "\n",
              "<style>\n",
              "  .colab-df-quickchart {\n",
              "      --bg-color: #E8F0FE;\n",
              "      --fill-color: #1967D2;\n",
              "      --hover-bg-color: #E2EBFA;\n",
              "      --hover-fill-color: #174EA6;\n",
              "      --disabled-fill-color: #AAA;\n",
              "      --disabled-bg-color: #DDD;\n",
              "  }\n",
              "\n",
              "  [theme=dark] .colab-df-quickchart {\n",
              "      --bg-color: #3B4455;\n",
              "      --fill-color: #D2E3FC;\n",
              "      --hover-bg-color: #434B5C;\n",
              "      --hover-fill-color: #FFFFFF;\n",
              "      --disabled-bg-color: #3B4455;\n",
              "      --disabled-fill-color: #666;\n",
              "  }\n",
              "\n",
              "  .colab-df-quickchart {\n",
              "    background-color: var(--bg-color);\n",
              "    border: none;\n",
              "    border-radius: 50%;\n",
              "    cursor: pointer;\n",
              "    display: none;\n",
              "    fill: var(--fill-color);\n",
              "    height: 32px;\n",
              "    padding: 0;\n",
              "    width: 32px;\n",
              "  }\n",
              "\n",
              "  .colab-df-quickchart:hover {\n",
              "    background-color: var(--hover-bg-color);\n",
              "    box-shadow: 0 1px 2px rgba(60, 64, 67, 0.3), 0 1px 3px 1px rgba(60, 64, 67, 0.15);\n",
              "    fill: var(--button-hover-fill-color);\n",
              "  }\n",
              "\n",
              "  .colab-df-quickchart-complete:disabled,\n",
              "  .colab-df-quickchart-complete:disabled:hover {\n",
              "    background-color: var(--disabled-bg-color);\n",
              "    fill: var(--disabled-fill-color);\n",
              "    box-shadow: none;\n",
              "  }\n",
              "\n",
              "  .colab-df-spinner {\n",
              "    border: 2px solid var(--fill-color);\n",
              "    border-color: transparent;\n",
              "    border-bottom-color: var(--fill-color);\n",
              "    animation:\n",
              "      spin 1s steps(1) infinite;\n",
              "  }\n",
              "\n",
              "  @keyframes spin {\n",
              "    0% {\n",
              "      border-color: transparent;\n",
              "      border-bottom-color: var(--fill-color);\n",
              "      border-left-color: var(--fill-color);\n",
              "    }\n",
              "    20% {\n",
              "      border-color: transparent;\n",
              "      border-left-color: var(--fill-color);\n",
              "      border-top-color: var(--fill-color);\n",
              "    }\n",
              "    30% {\n",
              "      border-color: transparent;\n",
              "      border-left-color: var(--fill-color);\n",
              "      border-top-color: var(--fill-color);\n",
              "      border-right-color: var(--fill-color);\n",
              "    }\n",
              "    40% {\n",
              "      border-color: transparent;\n",
              "      border-right-color: var(--fill-color);\n",
              "      border-top-color: var(--fill-color);\n",
              "    }\n",
              "    60% {\n",
              "      border-color: transparent;\n",
              "      border-right-color: var(--fill-color);\n",
              "    }\n",
              "    80% {\n",
              "      border-color: transparent;\n",
              "      border-right-color: var(--fill-color);\n",
              "      border-bottom-color: var(--fill-color);\n",
              "    }\n",
              "    90% {\n",
              "      border-color: transparent;\n",
              "      border-bottom-color: var(--fill-color);\n",
              "    }\n",
              "  }\n",
              "</style>\n",
              "\n",
              "      <script>\n",
              "        async function quickchart(key) {\n",
              "          const quickchartButtonEl =\n",
              "            document.querySelector('#' + key + ' button');\n",
              "          quickchartButtonEl.disabled = true;  // To prevent multiple clicks.\n",
              "          quickchartButtonEl.classList.add('colab-df-spinner');\n",
              "          try {\n",
              "            const charts = await google.colab.kernel.invokeFunction(\n",
              "                'suggestCharts', [key], {});\n",
              "          } catch (error) {\n",
              "            console.error('Error during call to suggestCharts:', error);\n",
              "          }\n",
              "          quickchartButtonEl.classList.remove('colab-df-spinner');\n",
              "          quickchartButtonEl.classList.add('colab-df-quickchart-complete');\n",
              "        }\n",
              "        (() => {\n",
              "          let quickchartButtonEl =\n",
              "            document.querySelector('#df-9af8031c-2139-4211-9c01-f5270b4c9ca7 button');\n",
              "          quickchartButtonEl.style.display =\n",
              "            google.colab.kernel.accessAllowed ? 'block' : 'none';\n",
              "        })();\n",
              "      </script>\n",
              "    </div>\n",
              "\n",
              "    </div>\n",
              "  </div>\n"
            ],
            "application/vnd.google.colaboratory.intrinsic+json": {
              "type": "dataframe",
              "summary": "{\n  \"name\": \"df\",\n  \"rows\": 8,\n  \"fields\": [\n    {\n      \"column\": \"total_bill\",\n      \"properties\": {\n        \"dtype\": \"number\",\n        \"std\": 80.57800601480773,\n        \"min\": 3.07,\n        \"max\": 244.0,\n        \"num_unique_values\": 8,\n        \"samples\": [\n          19.78594262295082,\n          17.795,\n          244.0\n        ],\n        \"semantic_type\": \"\",\n        \"description\": \"\"\n      }\n    },\n    {\n      \"column\": \"tip\",\n      \"properties\": {\n        \"dtype\": \"number\",\n        \"std\": 85.10953159599222,\n        \"min\": 1.0,\n        \"max\": 244.0,\n        \"num_unique_values\": 8,\n        \"samples\": [\n          2.99827868852459,\n          2.9,\n          244.0\n        ],\n        \"semantic_type\": \"\",\n        \"description\": \"\"\n      }\n    },\n    {\n      \"column\": \"size\",\n      \"properties\": {\n        \"dtype\": \"number\",\n        \"std\": 85.39686221774684,\n        \"min\": 0.9510998047322332,\n        \"max\": 244.0,\n        \"num_unique_values\": 7,\n        \"samples\": [\n          244.0,\n          2.569672131147541,\n          3.0\n        ],\n        \"semantic_type\": \"\",\n        \"description\": \"\"\n      }\n    }\n  ]\n}"
            }
          },
          "metadata": {},
          "execution_count": 4
        }
      ]
    },
    {
      "cell_type": "code",
      "source": [
        "# Summary grouped by gender\n",
        "df.groupby('sex')['total_bill'].describe()\n"
      ],
      "metadata": {
        "colab": {
          "base_uri": "https://localhost:8080/",
          "height": 198
        },
        "id": "XBNGO8-1YBcx",
        "outputId": "35366688-3274-4afb-bfa9-558ce32072af"
      },
      "execution_count": 5,
      "outputs": [
        {
          "output_type": "stream",
          "name": "stderr",
          "text": [
            "/tmp/ipython-input-5-2496820597.py:2: FutureWarning: The default of observed=False is deprecated and will be changed to True in a future version of pandas. Pass observed=False to retain current behavior or observed=True to adopt the future default and silence this warning.\n",
            "  df.groupby('sex')['total_bill'].describe()\n"
          ]
        },
        {
          "output_type": "execute_result",
          "data": {
            "text/plain": [
              "        count       mean       std   min    25%    50%    75%    max\n",
              "sex                                                                 \n",
              "Male    157.0  20.744076  9.246469  7.25  14.00  18.35  24.71  50.81\n",
              "Female   87.0  18.056897  8.009209  3.07  12.75  16.40  21.52  44.30"
            ],
            "text/html": [
              "\n",
              "  <div id=\"df-367b5a5a-0d97-4ab4-8771-0bb1b4c7973d\" class=\"colab-df-container\">\n",
              "    <div>\n",
              "<style scoped>\n",
              "    .dataframe tbody tr th:only-of-type {\n",
              "        vertical-align: middle;\n",
              "    }\n",
              "\n",
              "    .dataframe tbody tr th {\n",
              "        vertical-align: top;\n",
              "    }\n",
              "\n",
              "    .dataframe thead th {\n",
              "        text-align: right;\n",
              "    }\n",
              "</style>\n",
              "<table border=\"1\" class=\"dataframe\">\n",
              "  <thead>\n",
              "    <tr style=\"text-align: right;\">\n",
              "      <th></th>\n",
              "      <th>count</th>\n",
              "      <th>mean</th>\n",
              "      <th>std</th>\n",
              "      <th>min</th>\n",
              "      <th>25%</th>\n",
              "      <th>50%</th>\n",
              "      <th>75%</th>\n",
              "      <th>max</th>\n",
              "    </tr>\n",
              "    <tr>\n",
              "      <th>sex</th>\n",
              "      <th></th>\n",
              "      <th></th>\n",
              "      <th></th>\n",
              "      <th></th>\n",
              "      <th></th>\n",
              "      <th></th>\n",
              "      <th></th>\n",
              "      <th></th>\n",
              "    </tr>\n",
              "  </thead>\n",
              "  <tbody>\n",
              "    <tr>\n",
              "      <th>Male</th>\n",
              "      <td>157.0</td>\n",
              "      <td>20.744076</td>\n",
              "      <td>9.246469</td>\n",
              "      <td>7.25</td>\n",
              "      <td>14.00</td>\n",
              "      <td>18.35</td>\n",
              "      <td>24.71</td>\n",
              "      <td>50.81</td>\n",
              "    </tr>\n",
              "    <tr>\n",
              "      <th>Female</th>\n",
              "      <td>87.0</td>\n",
              "      <td>18.056897</td>\n",
              "      <td>8.009209</td>\n",
              "      <td>3.07</td>\n",
              "      <td>12.75</td>\n",
              "      <td>16.40</td>\n",
              "      <td>21.52</td>\n",
              "      <td>44.30</td>\n",
              "    </tr>\n",
              "  </tbody>\n",
              "</table>\n",
              "</div>\n",
              "    <div class=\"colab-df-buttons\">\n",
              "\n",
              "  <div class=\"colab-df-container\">\n",
              "    <button class=\"colab-df-convert\" onclick=\"convertToInteractive('df-367b5a5a-0d97-4ab4-8771-0bb1b4c7973d')\"\n",
              "            title=\"Convert this dataframe to an interactive table.\"\n",
              "            style=\"display:none;\">\n",
              "\n",
              "  <svg xmlns=\"http://www.w3.org/2000/svg\" height=\"24px\" viewBox=\"0 -960 960 960\">\n",
              "    <path d=\"M120-120v-720h720v720H120Zm60-500h600v-160H180v160Zm220 220h160v-160H400v160Zm0 220h160v-160H400v160ZM180-400h160v-160H180v160Zm440 0h160v-160H620v160ZM180-180h160v-160H180v160Zm440 0h160v-160H620v160Z\"/>\n",
              "  </svg>\n",
              "    </button>\n",
              "\n",
              "  <style>\n",
              "    .colab-df-container {\n",
              "      display:flex;\n",
              "      gap: 12px;\n",
              "    }\n",
              "\n",
              "    .colab-df-convert {\n",
              "      background-color: #E8F0FE;\n",
              "      border: none;\n",
              "      border-radius: 50%;\n",
              "      cursor: pointer;\n",
              "      display: none;\n",
              "      fill: #1967D2;\n",
              "      height: 32px;\n",
              "      padding: 0 0 0 0;\n",
              "      width: 32px;\n",
              "    }\n",
              "\n",
              "    .colab-df-convert:hover {\n",
              "      background-color: #E2EBFA;\n",
              "      box-shadow: 0px 1px 2px rgba(60, 64, 67, 0.3), 0px 1px 3px 1px rgba(60, 64, 67, 0.15);\n",
              "      fill: #174EA6;\n",
              "    }\n",
              "\n",
              "    .colab-df-buttons div {\n",
              "      margin-bottom: 4px;\n",
              "    }\n",
              "\n",
              "    [theme=dark] .colab-df-convert {\n",
              "      background-color: #3B4455;\n",
              "      fill: #D2E3FC;\n",
              "    }\n",
              "\n",
              "    [theme=dark] .colab-df-convert:hover {\n",
              "      background-color: #434B5C;\n",
              "      box-shadow: 0px 1px 3px 1px rgba(0, 0, 0, 0.15);\n",
              "      filter: drop-shadow(0px 1px 2px rgba(0, 0, 0, 0.3));\n",
              "      fill: #FFFFFF;\n",
              "    }\n",
              "  </style>\n",
              "\n",
              "    <script>\n",
              "      const buttonEl =\n",
              "        document.querySelector('#df-367b5a5a-0d97-4ab4-8771-0bb1b4c7973d button.colab-df-convert');\n",
              "      buttonEl.style.display =\n",
              "        google.colab.kernel.accessAllowed ? 'block' : 'none';\n",
              "\n",
              "      async function convertToInteractive(key) {\n",
              "        const element = document.querySelector('#df-367b5a5a-0d97-4ab4-8771-0bb1b4c7973d');\n",
              "        const dataTable =\n",
              "          await google.colab.kernel.invokeFunction('convertToInteractive',\n",
              "                                                    [key], {});\n",
              "        if (!dataTable) return;\n",
              "\n",
              "        const docLinkHtml = 'Like what you see? Visit the ' +\n",
              "          '<a target=\"_blank\" href=https://colab.research.google.com/notebooks/data_table.ipynb>data table notebook</a>'\n",
              "          + ' to learn more about interactive tables.';\n",
              "        element.innerHTML = '';\n",
              "        dataTable['output_type'] = 'display_data';\n",
              "        await google.colab.output.renderOutput(dataTable, element);\n",
              "        const docLink = document.createElement('div');\n",
              "        docLink.innerHTML = docLinkHtml;\n",
              "        element.appendChild(docLink);\n",
              "      }\n",
              "    </script>\n",
              "  </div>\n",
              "\n",
              "\n",
              "    <div id=\"df-83889bd2-8a52-4736-a830-c58cc7e349e2\">\n",
              "      <button class=\"colab-df-quickchart\" onclick=\"quickchart('df-83889bd2-8a52-4736-a830-c58cc7e349e2')\"\n",
              "                title=\"Suggest charts\"\n",
              "                style=\"display:none;\">\n",
              "\n",
              "<svg xmlns=\"http://www.w3.org/2000/svg\" height=\"24px\"viewBox=\"0 0 24 24\"\n",
              "     width=\"24px\">\n",
              "    <g>\n",
              "        <path d=\"M19 3H5c-1.1 0-2 .9-2 2v14c0 1.1.9 2 2 2h14c1.1 0 2-.9 2-2V5c0-1.1-.9-2-2-2zM9 17H7v-7h2v7zm4 0h-2V7h2v10zm4 0h-2v-4h2v4z\"/>\n",
              "    </g>\n",
              "</svg>\n",
              "      </button>\n",
              "\n",
              "<style>\n",
              "  .colab-df-quickchart {\n",
              "      --bg-color: #E8F0FE;\n",
              "      --fill-color: #1967D2;\n",
              "      --hover-bg-color: #E2EBFA;\n",
              "      --hover-fill-color: #174EA6;\n",
              "      --disabled-fill-color: #AAA;\n",
              "      --disabled-bg-color: #DDD;\n",
              "  }\n",
              "\n",
              "  [theme=dark] .colab-df-quickchart {\n",
              "      --bg-color: #3B4455;\n",
              "      --fill-color: #D2E3FC;\n",
              "      --hover-bg-color: #434B5C;\n",
              "      --hover-fill-color: #FFFFFF;\n",
              "      --disabled-bg-color: #3B4455;\n",
              "      --disabled-fill-color: #666;\n",
              "  }\n",
              "\n",
              "  .colab-df-quickchart {\n",
              "    background-color: var(--bg-color);\n",
              "    border: none;\n",
              "    border-radius: 50%;\n",
              "    cursor: pointer;\n",
              "    display: none;\n",
              "    fill: var(--fill-color);\n",
              "    height: 32px;\n",
              "    padding: 0;\n",
              "    width: 32px;\n",
              "  }\n",
              "\n",
              "  .colab-df-quickchart:hover {\n",
              "    background-color: var(--hover-bg-color);\n",
              "    box-shadow: 0 1px 2px rgba(60, 64, 67, 0.3), 0 1px 3px 1px rgba(60, 64, 67, 0.15);\n",
              "    fill: var(--button-hover-fill-color);\n",
              "  }\n",
              "\n",
              "  .colab-df-quickchart-complete:disabled,\n",
              "  .colab-df-quickchart-complete:disabled:hover {\n",
              "    background-color: var(--disabled-bg-color);\n",
              "    fill: var(--disabled-fill-color);\n",
              "    box-shadow: none;\n",
              "  }\n",
              "\n",
              "  .colab-df-spinner {\n",
              "    border: 2px solid var(--fill-color);\n",
              "    border-color: transparent;\n",
              "    border-bottom-color: var(--fill-color);\n",
              "    animation:\n",
              "      spin 1s steps(1) infinite;\n",
              "  }\n",
              "\n",
              "  @keyframes spin {\n",
              "    0% {\n",
              "      border-color: transparent;\n",
              "      border-bottom-color: var(--fill-color);\n",
              "      border-left-color: var(--fill-color);\n",
              "    }\n",
              "    20% {\n",
              "      border-color: transparent;\n",
              "      border-left-color: var(--fill-color);\n",
              "      border-top-color: var(--fill-color);\n",
              "    }\n",
              "    30% {\n",
              "      border-color: transparent;\n",
              "      border-left-color: var(--fill-color);\n",
              "      border-top-color: var(--fill-color);\n",
              "      border-right-color: var(--fill-color);\n",
              "    }\n",
              "    40% {\n",
              "      border-color: transparent;\n",
              "      border-right-color: var(--fill-color);\n",
              "      border-top-color: var(--fill-color);\n",
              "    }\n",
              "    60% {\n",
              "      border-color: transparent;\n",
              "      border-right-color: var(--fill-color);\n",
              "    }\n",
              "    80% {\n",
              "      border-color: transparent;\n",
              "      border-right-color: var(--fill-color);\n",
              "      border-bottom-color: var(--fill-color);\n",
              "    }\n",
              "    90% {\n",
              "      border-color: transparent;\n",
              "      border-bottom-color: var(--fill-color);\n",
              "    }\n",
              "  }\n",
              "</style>\n",
              "\n",
              "      <script>\n",
              "        async function quickchart(key) {\n",
              "          const quickchartButtonEl =\n",
              "            document.querySelector('#' + key + ' button');\n",
              "          quickchartButtonEl.disabled = true;  // To prevent multiple clicks.\n",
              "          quickchartButtonEl.classList.add('colab-df-spinner');\n",
              "          try {\n",
              "            const charts = await google.colab.kernel.invokeFunction(\n",
              "                'suggestCharts', [key], {});\n",
              "          } catch (error) {\n",
              "            console.error('Error during call to suggestCharts:', error);\n",
              "          }\n",
              "          quickchartButtonEl.classList.remove('colab-df-spinner');\n",
              "          quickchartButtonEl.classList.add('colab-df-quickchart-complete');\n",
              "        }\n",
              "        (() => {\n",
              "          let quickchartButtonEl =\n",
              "            document.querySelector('#df-83889bd2-8a52-4736-a830-c58cc7e349e2 button');\n",
              "          quickchartButtonEl.style.display =\n",
              "            google.colab.kernel.accessAllowed ? 'block' : 'none';\n",
              "        })();\n",
              "      </script>\n",
              "    </div>\n",
              "\n",
              "    </div>\n",
              "  </div>\n"
            ],
            "application/vnd.google.colaboratory.intrinsic+json": {
              "type": "dataframe",
              "summary": "{\n  \"name\": \"df\",\n  \"rows\": 2,\n  \"fields\": [\n    {\n      \"column\": \"sex\",\n      \"properties\": {\n        \"dtype\": \"category\",\n        \"num_unique_values\": 2,\n        \"samples\": [\n          \"Female\",\n          \"Male\"\n        ],\n        \"semantic_type\": \"\",\n        \"description\": \"\"\n      }\n    },\n    {\n      \"column\": \"count\",\n      \"properties\": {\n        \"dtype\": \"number\",\n        \"std\": 49.49747468305833,\n        \"min\": 87.0,\n        \"max\": 157.0,\n        \"num_unique_values\": 2,\n        \"samples\": [\n          87.0,\n          157.0\n        ],\n        \"semantic_type\": \"\",\n        \"description\": \"\"\n      }\n    },\n    {\n      \"column\": \"mean\",\n      \"properties\": {\n        \"dtype\": \"number\",\n        \"std\": 1.9001231164037986,\n        \"min\": 18.056896551724133,\n        \"max\": 20.744076433121016,\n        \"num_unique_values\": 2,\n        \"samples\": [\n          18.056896551724133,\n          20.744076433121016\n        ],\n        \"semantic_type\": \"\",\n        \"description\": \"\"\n      }\n    },\n    {\n      \"column\": \"std\",\n      \"properties\": {\n        \"dtype\": \"number\",\n        \"std\": 0.8748747752896936,\n        \"min\": 8.009208988951961,\n        \"max\": 9.24646876154476,\n        \"num_unique_values\": 2,\n        \"samples\": [\n          8.009208988951961,\n          9.24646876154476\n        ],\n        \"semantic_type\": \"\",\n        \"description\": \"\"\n      }\n    },\n    {\n      \"column\": \"min\",\n      \"properties\": {\n        \"dtype\": \"number\",\n        \"std\": 2.9557063453597685,\n        \"min\": 3.07,\n        \"max\": 7.25,\n        \"num_unique_values\": 2,\n        \"samples\": [\n          3.07,\n          7.25\n        ],\n        \"semantic_type\": \"\",\n        \"description\": \"\"\n      }\n    },\n    {\n      \"column\": \"25%\",\n      \"properties\": {\n        \"dtype\": \"number\",\n        \"std\": 0.8838834764831844,\n        \"min\": 12.75,\n        \"max\": 14.0,\n        \"num_unique_values\": 2,\n        \"samples\": [\n          12.75,\n          14.0\n        ],\n        \"semantic_type\": \"\",\n        \"description\": \"\"\n      }\n    },\n    {\n      \"column\": \"50%\",\n      \"properties\": {\n        \"dtype\": \"number\",\n        \"std\": 1.3788582233137696,\n        \"min\": 16.4,\n        \"max\": 18.35,\n        \"num_unique_values\": 2,\n        \"samples\": [\n          16.4,\n          18.35\n        ],\n        \"semantic_type\": \"\",\n        \"description\": \"\"\n      }\n    },\n    {\n      \"column\": \"75%\",\n      \"properties\": {\n        \"dtype\": \"number\",\n        \"std\": 2.255670631985085,\n        \"min\": 21.520000000000003,\n        \"max\": 24.71,\n        \"num_unique_values\": 2,\n        \"samples\": [\n          21.520000000000003,\n          24.71\n        ],\n        \"semantic_type\": \"\",\n        \"description\": \"\"\n      }\n    },\n    {\n      \"column\": \"max\",\n      \"properties\": {\n        \"dtype\": \"number\",\n        \"std\": 4.6032651455244284,\n        \"min\": 44.3,\n        \"max\": 50.81,\n        \"num_unique_values\": 2,\n        \"samples\": [\n          44.3,\n          50.81\n        ],\n        \"semantic_type\": \"\",\n        \"description\": \"\"\n      }\n    }\n  ]\n}"
            }
          },
          "metadata": {},
          "execution_count": 5
        }
      ]
    },
    {
      "cell_type": "markdown",
      "source": [
        "From the summary above, we can observe average total bills, standard deviations, and ranges for each gender. This helps us understand general spending patterns.\n"
      ],
      "metadata": {
        "id": "3B7DKZIQYGqP"
      }
    },
    {
      "cell_type": "markdown",
      "source": [
        "#🔹 **Visualize the Data**"
      ],
      "metadata": {
        "id": "r1janUsFYSQp"
      }
    },
    {
      "cell_type": "code",
      "source": [
        "import matplotlib.pyplot as plt\n",
        "import seaborn as sns\n",
        "\n",
        "# Boxplot to compare total bills by gender\n",
        "plt.figure(figsize=(6, 4))\n",
        "sns.boxplot(x='sex', y='total_bill', data=df)\n",
        "plt.title('Total Bill Distribution by Gender')\n",
        "plt.xlabel('Gender')\n",
        "plt.ylabel('Total Bill')\n",
        "plt.show()\n"
      ],
      "metadata": {
        "colab": {
          "base_uri": "https://localhost:8080/",
          "height": 410
        },
        "id": "xonQOnDXYEf8",
        "outputId": "b81411bd-26f4-4a13-badf-abbdac54bb86"
      },
      "execution_count": 6,
      "outputs": [
        {
          "output_type": "display_data",
          "data": {
            "text/plain": [
              "<Figure size 600x400 with 1 Axes>"
            ],
            "image/png": "[encoded data removed]"
          },
          "metadata": {}
        }
      ]
    },
    {
      "cell_type": "markdown",
      "source": [
        "🔹 Using visual tools like boxplots to compare distributions between groups.\n",
        "\n",
        "---> From the boxplot\n",
        "1. Median total bill is slightly higher for males than females.\n",
        "\n",
        "2. Male customers show a wider range of spending.\n",
        "\n",
        "3. Both genders have outliers, but males have more extreme high bills.\n",
        "\n",
        "4. Overall, spending patterns are somewhat similar, with males showing more variability."
      ],
      "metadata": {
        "id": "1-F07HboYn2S"
      }
    },
    {
      "cell_type": "markdown",
      "source": [
        "#🔹 **Inferential Statistics: Two-Sample T-Test**"
      ],
      "metadata": {
        "id": "Uz_wrfpzZYoD"
      }
    },
    {
      "cell_type": "code",
      "source": [
        "#importing library to perform ttest\n",
        "from scipy.stats import ttest_ind"
      ],
      "metadata": {
        "id": "lh4OsIhdYVaV"
      },
      "execution_count": 7,
      "outputs": []
    },
    {
      "cell_type": "code",
      "source": [
        "# Separate total bills by gender\n",
        "male_bills = df[df['sex'] == 'Male']['total_bill']\n",
        "female_bills = df[df['sex'] == 'Female']['total_bill']"
      ],
      "metadata": {
        "id": "74gPm3gRZrS0"
      },
      "execution_count": 8,
      "outputs": []
    },
    {
      "cell_type": "markdown",
      "source": [
        "### Interpretation:\n",
        "- **Null Hypothesis (H₀)**: There is no difference in average total bills between male and female customers.\n",
        "- **Alternative Hypothesis (H₁)**: There is a significant difference.\n",
        "\n",
        "If the p-value < 0.05, we reject the null hypothesis.\n",
        "\n",
        "In this case, if the p-value is greater than 0.05, we **do not** have enough evidence to say there’s a significant difference in spending between genders.\n"
      ],
      "metadata": {
        "id": "aEP5j7AlaHHF"
      }
    },
    {
      "cell_type": "code",
      "source": [
        "# Perform independent t-test\n",
        "t_stat, p_value = ttest_ind(male_bills, female_bills)\n",
        "\n",
        "print(f\"T-statistic: {t_stat:.3f}\")\n",
        "print(f\"P-value: {p_value:.3f}\")"
      ],
      "metadata": {
        "colab": {
          "base_uri": "https://localhost:8080/"
        },
        "id": "7eb7_XYfaCYU",
        "outputId": "82b93d2f-cdaf-4e23-a44c-bc116cec1ad1"
      },
      "execution_count": 9,
      "outputs": [
        {
          "output_type": "stream",
          "name": "stdout",
          "text": [
            "T-statistic: 2.278\n",
            "P-value: 0.024\n"
          ]
        }
      ]
    },
    {
      "cell_type": "markdown",
      "source": [
        "## **Inference:**\n",
        "🔹 T-statistic = 2.278\n",
        "\n",
        "🔹 P-value = 0.024\n",
        "\n",
        "--> Since the p-value (0.024) is less than 0.05, we reject the null hypothesis.\n",
        "\n",
        "---> The value 0.05 is the most commonly used significance level (denoted by α) in hypothesis testing.\n",
        "\n",
        "---> 0.05 means with a 5% risk ( or 5% of the output or assumption being wrong) of rejecting the null hypothesis when it is actually true.\n",
        "\n"
      ],
      "metadata": {
        "id": "87eqXUE8aeGq"
      }
    },
    {
      "cell_type": "markdown",
      "source": [
        "#✅ **Conclusion:**\n",
        "\n",
        "There is a statistically significant difference in the average total bill between male and female customers at the 5% significance level. This suggests that gender may influence spending in this dataset."
      ],
      "metadata": {
        "id": "XwKrXe8Hb6Lr"
      }
    }
  ]
}